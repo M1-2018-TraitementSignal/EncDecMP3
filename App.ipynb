{
 "cells": [
  {
   "cell_type": "code",
   "execution_count": 2,
   "metadata": {},
   "outputs": [
    {
     "name": "stdout",
     "output_type": "stream",
     "text": [
      "Hello world\n",
      "Populating the interactive namespace from numpy and matplotlib\n"
     ]
    }
   ],
   "source": [
    "print(\"Hello world\")\n",
    "%pylab inline"
   ]
  },
  {
   "cell_type": "code",
   "execution_count": 3,
   "metadata": {},
   "outputs": [],
   "source": [
    "import scipy"
   ]
  },
  {
   "cell_type": "code",
   "execution_count": 4,
   "metadata": {},
   "outputs": [],
   "source": [
    "import scipy.io.wavfile"
   ]
  },
  {
   "cell_type": "code",
   "execution_count": 5,
   "metadata": {},
   "outputs": [
    {
     "data": {
      "text/plain": [
       "(44100, array([[  0,   0],\n",
       "        [ -1,   0],\n",
       "        [  0,   0],\n",
       "        ...,\n",
       "        [144, 163],\n",
       "        [113, 147],\n",
       "        [ 73,  88]], dtype=int16))"
      ]
     },
     "execution_count": 5,
     "metadata": {},
     "output_type": "execute_result"
    }
   ],
   "source": [
    "scipy.io.wavfile.read('test.wav')"
   ]
  },
  {
   "cell_type": "code",
   "execution_count": 6,
   "metadata": {},
   "outputs": [],
   "source": [
    "freq, data = scipy.io.wavfile.read('test.wav')"
   ]
  },
  {
   "cell_type": "code",
   "execution_count": 7,
   "metadata": {},
   "outputs": [
    {
     "name": "stdout",
     "output_type": "stream",
     "text": [
      "44100\n"
     ]
    }
   ],
   "source": [
    "print(freq)"
   ]
  },
  {
   "cell_type": "code",
   "execution_count": 8,
   "metadata": {},
   "outputs": [
    {
     "name": "stdout",
     "output_type": "stream",
     "text": [
      "[[  0   0]\n",
      " [ -1   0]\n",
      " [  0   0]\n",
      " ...\n",
      " [144 163]\n",
      " [113 147]\n",
      " [ 73  88]]\n"
     ]
    }
   ],
   "source": [
    "print(data)"
   ]
  },
  {
   "cell_type": "code",
   "execution_count": 9,
   "metadata": {},
   "outputs": [
    {
     "name": "stdout",
     "output_type": "stream",
     "text": [
      "8833224\n"
     ]
    }
   ],
   "source": [
    "print(len(data))"
   ]
  },
  {
   "cell_type": "code",
   "execution_count": 10,
   "metadata": {},
   "outputs": [
    {
     "name": "stdout",
     "output_type": "stream",
     "text": [
      "[0 0]\n"
     ]
    }
   ],
   "source": [
    "print(data[0])"
   ]
  },
  {
   "cell_type": "code",
   "execution_count": 11,
   "metadata": {},
   "outputs": [
    {
     "name": "stdout",
     "output_type": "stream",
     "text": [
      "[0 0]\n",
      "[-1  0]\n",
      "[0 0]\n",
      "[ 0 -1]\n",
      "[0 0]\n",
      "[0 0]\n",
      "[0 0]\n",
      "[0 0]\n",
      "[0 0]\n",
      "[0 0]\n",
      "[-5 -4]\n",
      "[7 7]\n",
      "[-17 -16]\n",
      "[30 29]\n",
      "[-88 -84]\n",
      "[-347 -338]\n",
      "[-384 -389]\n",
      "[-407 -390]\n",
      "[-386 -349]\n",
      "[-418 -412]\n",
      "[-433 -413]\n",
      "[-409 -389]\n",
      "[-356 -342]\n",
      "[-329 -318]\n",
      "[-404 -397]\n",
      "[-462 -443]\n",
      "[-410 -394]\n",
      "[-424 -406]\n",
      "[-432 -428]\n",
      "[-422 -427]\n"
     ]
    }
   ],
   "source": [
    "for i in range(0,30):\n",
    "    print(data[i])"
   ]
  },
  {
   "cell_type": "code",
   "execution_count": 12,
   "metadata": {},
   "outputs": [],
   "source": [
    "c = asarray(data, dtype = np.int16)"
   ]
  },
  {
   "cell_type": "code",
   "execution_count": 13,
   "metadata": {},
   "outputs": [
    {
     "name": "stdout",
     "output_type": "stream",
     "text": [
      "[[  0   0]\n",
      " [ -1   0]\n",
      " [  0   0]\n",
      " ...\n",
      " [144 163]\n",
      " [113 147]\n",
      " [ 73  88]]\n"
     ]
    }
   ],
   "source": [
    "print(c)"
   ]
  },
  {
   "cell_type": "code",
   "execution_count": 14,
   "metadata": {},
   "outputs": [],
   "source": [
    "scipy.io.wavfile.write('reecrit.wav', freq, c)"
   ]
  },
  {
   "cell_type": "code",
   "execution_count": 15,
   "metadata": {},
   "outputs": [],
   "source": [
    "duree = ((1.0*(len(data)))/(freq))"
   ]
  },
  {
   "cell_type": "code",
   "execution_count": 16,
   "metadata": {},
   "outputs": [
    {
     "name": "stdout",
     "output_type": "stream",
     "text": [
      "200.29986394557824\n"
     ]
    }
   ],
   "source": [
    "print(duree)"
   ]
  },
  {
   "cell_type": "code",
   "execution_count": 17,
   "metadata": {},
   "outputs": [
    {
     "data": {
      "text/plain": [
       "8833224"
      ]
     },
     "execution_count": 17,
     "metadata": {},
     "output_type": "execute_result"
    }
   ],
   "source": [
    "len(data)"
   ]
  },
  {
   "cell_type": "code",
   "execution_count": 18,
   "metadata": {},
   "outputs": [
    {
     "data": {
      "text/plain": [
       "200.29986394557824"
      ]
     },
     "execution_count": 18,
     "metadata": {},
     "output_type": "execute_result"
    }
   ],
   "source": [
    "len(data) /  44100"
   ]
  },
  {
   "cell_type": "code",
   "execution_count": 19,
   "metadata": {},
   "outputs": [
    {
     "data": {
      "image/png": "[encoded data removed]",
      "text/plain": [
       "<Figure size 864x288 with 1 Axes>"
      ]
     },
     "metadata": {
      "needs_background": "light"
     },
     "output_type": "display_data"
    }
   ],
   "source": [
    "n = len(data)\n",
    "te = 1.0/freq\n",
    "t = zeros(n)\n",
    "for k in range(n):\n",
    "    t[k] = te*k\n",
    "figure(figsize=(12,4))\n",
    "plot(t,data)\n",
    "xlabel(\"t (s)\")\n",
    "ylabel(\"amplitude\") \n",
    "axis([0,duree,data.min(),data.max()])\n",
    "grid()"
   ]
  },
  {
   "cell_type": "code",
   "execution_count": null,
   "metadata": {},
   "outputs": [],
   "source": [
    "#Ce bloc fait crasher le noyau\n",
    "def tracerSpectre(data,rate,debut,duree):\n",
    "    start = int(debut*rate)\n",
    "    stop = int((debut+duree)*rate)\n",
    "    spectre = absolute(fft.fft(data[start:stop]))\n",
    "    spectre = spectre/spectre.max()#fait un ratio\n",
    "    n = spectre.size\n",
    "    freq = zeros(n)\n",
    "    for k in range(n):\n",
    "        freq[k] = 1.0/n*rate*k\n",
    "    vlines(freq,[0],spectre,'r')\n",
    "    xlabel('f (Hz)')\n",
    "    ylabel('A')\n",
    "    axis([0,0.5*rate,0,1])\n",
    "    grid()\n",
    "\n",
    "\n",
    "figure(figsize=(12,4))\n",
    "tracerSpectre(data,freq,0,len(data))\n",
    "axis([0,50000,0,1])\n"
   ]
  },
  {
   "cell_type": "code",
   "execution_count": 20,
   "metadata": {},
   "outputs": [
    {
     "name": "stdout",
     "output_type": "stream",
     "text": [
      "[[  0.   0.]\n",
      " [  1.   1.]\n",
      " [  0.   0.]\n",
      " ...\n",
      " [307.  19.]\n",
      " [260.  34.]\n",
      " [161.  15.]]\n"
     ]
    }
   ],
   "source": [
    "spectre = absolute(fft.fft(data[0:len(data)]))\n",
    "print(spectre)"
   ]
  },
  {
   "cell_type": "code",
   "execution_count": 21,
   "metadata": {},
   "outputs": [
    {
     "data": {
      "text/plain": [
       "8833224"
      ]
     },
     "execution_count": 21,
     "metadata": {},
     "output_type": "execute_result"
    }
   ],
   "source": [
    "len(spectre)"
   ]
  },
  {
   "cell_type": "code",
   "execution_count": 33,
   "metadata": {},
   "outputs": [
    {
     "name": "stdout",
     "output_type": "stream",
     "text": [
      "0\n",
      "2908390\n"
     ]
    }
   ],
   "source": [
    "#test du suppression des hautes fréquences\n",
    "spectretest = []\n",
    "print(len(spectretest))\n",
    "for freq in spectre:\n",
    "    if (freq[0] > 20 and freq [1] > 20) and (freq[0] < 20000 and freq[1] < 20000):\n",
    "        spectretest += [freq]\n",
    "print(len(spectretest))\n",
    "#print(spectretest) # Fais planter le noyau"
   ]
  },
  {
   "cell_type": "code",
   "execution_count": 48,
   "metadata": {},
   "outputs": [
    {
     "name": "stdout",
     "output_type": "stream",
     "text": [
      "[[386. 349.]\n",
      " [514. 487.]\n",
      " [468. 438.]\n",
      " ...\n",
      " [264. 236.]\n",
      " [123. 102.]\n",
      " [147. 113.]]\n"
     ]
    }
   ],
   "source": [
    "#Test de réécoute après réduction du spectre\n",
    "signal = fft.ifft(spectretest).real\n",
    "print(signal)\n",
    "freq2 = 44100\n",
    "scipy.io.wavfile.write('reecrit.wav', freq2, signal)"
   ]
  },
  {
   "cell_type": "code",
   "execution_count": null,
   "metadata": {},
   "outputs": [],
   "source": []
  }
 ],
 "metadata": {
  "kernelspec": {
   "display_name": "Python 3",
   "language": "python",
   "name": "python3"
  },
  "language_info": {
   "codemirror_mode": {
    "name": "ipython",
    "version": 3
   },
   "file_extension": ".py",
   "mimetype": "text/x-python",
   "name": "python",
   "nbconvert_exporter": "python",
   "pygments_lexer": "ipython3",
   "version": "3.6.7"
  }
 },
 "nbformat": 4,
 "nbformat_minor": 2
}
