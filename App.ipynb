{
 "cells": [
  {
   "cell_type": "code",
   "execution_count": 2,
   "metadata": {},
   "outputs": [
    {
     "name": "stdout",
     "output_type": "stream",
     "text": [
      "Hello world\n",
      "Populating the interactive namespace from numpy and matplotlib\n"
     ]
    }
   ],
   "source": [
    "print(\"Hello world\")\n",
    "%pylab inline"
   ]
  },
  {
   "cell_type": "code",
   "execution_count": 3,
   "metadata": {},
   "outputs": [],
   "source": [
    "import scipy"
   ]
  },
  {
   "cell_type": "code",
   "execution_count": 4,
   "metadata": {},
   "outputs": [],
   "source": [
    "import scipy.io.wavfile"
   ]
  },
  {
   "cell_type": "code",
   "execution_count": 5,
   "metadata": {},
   "outputs": [
    {
     "data": {
      "text/plain": [
       "(44100, array([[  0,   0],\n",
       "        [ -1,   0],\n",
       "        [  0,   0],\n",
       "        ...,\n",
       "        [144, 163],\n",
       "        [113, 147],\n",
       "        [ 73,  88]], dtype=int16))"
      ]
     },
     "execution_count": 5,
     "metadata": {},
     "output_type": "execute_result"
    }
   ],
   "source": [
    "scipy.io.wavfile.read('test.wav')"
   ]
  },
  {
   "cell_type": "code",
   "execution_count": 6,
   "metadata": {},
   "outputs": [],
   "source": [
    "freq, data = scipy.io.wavfile.read('test.wav')"
   ]
  },
  {
   "cell_type": "code",
   "execution_count": 24,
   "metadata": {},
   "outputs": [
    {
     "name": "stdout",
     "output_type": "stream",
     "text": [
      "44100\n",
      "[[  0   0]\n",
      " [ -1   0]\n",
      " [  0   0]\n",
      " ...\n",
      " [144 163]\n",
      " [113 147]\n",
      " [ 73  88]]\n",
      "[[  0.+0.j   0.+0.j]\n",
      " [ -1.+0.j   0.+0.j]\n",
      " [  0.+0.j   0.+0.j]\n",
      " ...\n",
      " [144.+0.j 163.+0.j]\n",
      " [113.+0.j 147.+0.j]\n",
      " [ 73.+0.j  88.+0.j]]\n"
     ]
    }
   ],
   "source": [
    "print(freq)\n",
    "print(data)\n",
    "print(fft.ifft(fft.fft(data)))"
   ]
  },
  {
   "cell_type": "code",
   "execution_count": 8,
   "metadata": {},
   "outputs": [
    {
     "name": "stdout",
     "output_type": "stream",
     "text": [
      "[[  0   0]\n",
      " [ -1   0]\n",
      " [  0   0]\n",
      " ...\n",
      " [144 163]\n",
      " [113 147]\n",
      " [ 73  88]]\n"
     ]
    }
   ],
   "source": [
    "print(data)"
   ]
  },
  {
   "cell_type": "code",
   "execution_count": 9,
   "metadata": {},
   "outputs": [
    {
     "name": "stdout",
     "output_type": "stream",
     "text": [
      "8833224\n"
     ]
    }
   ],
   "source": [
    "print(len(data))"
   ]
  },
  {
   "cell_type": "code",
   "execution_count": 10,
   "metadata": {},
   "outputs": [
    {
     "name": "stdout",
     "output_type": "stream",
     "text": [
      "[0 0]\n",
      "[-1  0]\n",
      "[0 0]\n",
      "[ 0 -1]\n",
      "[0 0]\n",
      "[0 0]\n",
      "[0 0]\n",
      "[0 0]\n",
      "[0 0]\n",
      "[0 0]\n",
      "[-5 -4]\n",
      "[7 7]\n",
      "[-17 -16]\n",
      "[30 29]\n",
      "[-88 -84]\n",
      "[-347 -338]\n",
      "[-384 -389]\n",
      "[-407 -390]\n",
      "[-386 -349]\n",
      "[-418 -412]\n",
      "[-433 -413]\n",
      "[-409 -389]\n",
      "[-356 -342]\n",
      "[-329 -318]\n",
      "[-404 -397]\n",
      "[-462 -443]\n",
      "[-410 -394]\n",
      "[-424 -406]\n",
      "[-432 -428]\n",
      "[-422 -427]\n"
     ]
    }
   ],
   "source": [
    "for i in range(0,30):\n",
    "    print(data[i])"
   ]
  },
  {
   "cell_type": "code",
   "execution_count": 11,
   "metadata": {},
   "outputs": [],
   "source": [
    "c = asarray(data, dtype = np.int16)"
   ]
  },
  {
   "cell_type": "code",
   "execution_count": 12,
   "metadata": {},
   "outputs": [
    {
     "name": "stdout",
     "output_type": "stream",
     "text": [
      "[[  0   0]\n",
      " [ -1   0]\n",
      " [  0   0]\n",
      " ...\n",
      " [144 163]\n",
      " [113 147]\n",
      " [ 73  88]]\n"
     ]
    }
   ],
   "source": [
    "print(c)"
   ]
  },
  {
   "cell_type": "code",
   "execution_count": 13,
   "metadata": {},
   "outputs": [],
   "source": [
    "scipy.io.wavfile.write('reecrit.wav', freq, c)"
   ]
  },
  {
   "cell_type": "code",
   "execution_count": 14,
   "metadata": {},
   "outputs": [],
   "source": [
    "duree = ((1.0*(len(data)))/(freq))"
   ]
  },
  {
   "cell_type": "code",
   "execution_count": 15,
   "metadata": {},
   "outputs": [
    {
     "name": "stdout",
     "output_type": "stream",
     "text": [
      "200.29986394557824\n"
     ]
    }
   ],
   "source": [
    "print(duree)"
   ]
  },
  {
   "cell_type": "code",
   "execution_count": 16,
   "metadata": {},
   "outputs": [
    {
     "data": {
      "text/plain": [
       "8833224"
      ]
     },
     "execution_count": 16,
     "metadata": {},
     "output_type": "execute_result"
    }
   ],
   "source": [
    "len(data)"
   ]
  },
  {
   "cell_type": "code",
   "execution_count": 17,
   "metadata": {},
   "outputs": [
    {
     "data": {
      "text/plain": [
       "200.29986394557824"
      ]
     },
     "execution_count": 17,
     "metadata": {},
     "output_type": "execute_result"
    }
   ],
   "source": [
    "len(data) /  44100"
   ]
  },
  {
   "cell_type": "code",
   "execution_count": 18,
   "metadata": {},
   "outputs": [
    {
     "data": {
      "image/png": "[encoded data removed]",
      "text/plain": [
       "<Figure size 864x288 with 1 Axes>"
      ]
     },
     "metadata": {
      "needs_background": "light"
     },
     "output_type": "display_data"
    }
   ],
   "source": [
    "n = len(data)\n",
    "te = 1.0/freq\n",
    "t = zeros(n)\n",
    "for k in range(n):\n",
    "    t[k] = te*k\n",
    "figure(figsize=(12,4))\n",
    "plot(t,data)\n",
    "xlabel(\"t (s)\")\n",
    "ylabel(\"amplitude\") \n",
    "axis([0,duree,data.min(),data.max()])\n",
    "grid()"
   ]
  },
  {
   "cell_type": "code",
   "execution_count": null,
   "metadata": {},
   "outputs": [],
   "source": [
    "#Ce bloc fait crasher le noyau\n",
    "def tracerSpectre(data,rate,debut,duree):\n",
    "    start = int(debut*rate)\n",
    "    stop = int((debut+duree)*rate)\n",
    "    spectre = absolute(fft.fft(data[start:stop]))\n",
    "    spectre = spectre/spectre.max()#fait un ratio\n",
    "    n = spectre.size\n",
    "    freq = zeros(n)\n",
    "    for k in range(n):\n",
    "        freq[k] = 1.0/n*rate*k\n",
    "    vlines(freq,[0],spectre,'r')\n",
    "    xlabel('f (Hz)')\n",
    "    ylabel('A')\n",
    "    axis([0,0.5*rate,0,1])\n",
    "    grid()\n",
    "\n",
    "\n",
    "figure(figsize=(12,4))\n",
    "tracerSpectre(data,freq,0,len(data))\n",
    "axis([0,50000,0,1])\n"
   ]
  },
  {
   "cell_type": "code",
   "execution_count": 19,
   "metadata": {},
   "outputs": [
    {
     "name": "stdout",
     "output_type": "stream",
     "text": [
      "8833224 44100\n"
     ]
    }
   ],
   "source": [
    "print(len(data), freq)"
   ]
  },
  {
   "cell_type": "code",
   "execution_count": 20,
   "metadata": {},
   "outputs": [
    {
     "name": "stdout",
     "output_type": "stream",
     "text": [
      "4416613\n"
     ]
    },
    {
     "data": {
      "image/png": "[encoded data removed]",
      "text/plain": [
       "<Figure size 432x288 with 1 Axes>"
      ]
     },
     "metadata": {
      "needs_background": "light"
     },
     "output_type": "display_data"
    },
    {
     "data": {
      "image/png": "[encoded data removed]",
      "text/plain": [
       "<Figure size 432x288 with 1 Axes>"
      ]
     },
     "metadata": {
      "needs_background": "light"
     },
     "output_type": "display_data"
    }
   ],
   "source": [
    "#Test en séparant les 2 canaux stéréo\n",
    "#Fonctionne !!!!!!\n",
    "def plot(file_name):\n",
    "\n",
    "    sampFreq, snd = scipy.io.wavfile.read(file_name)\n",
    "\n",
    "    snd = snd / (2.**15) #convert sound array to float pt. values\n",
    "\n",
    "    s1 = snd[:,0] #left channel\n",
    "\n",
    "    s2 = snd[:,1] #right channel\n",
    "\n",
    "    n = len(s1)\n",
    "    p = fft.fft(s1) # take the fourier transform of left channel\n",
    "    ma_var = p\n",
    "\n",
    "    m = len(s2) \n",
    "    p2 = fft.fft(s2) # take the fourier transform of right channel\n",
    "    ma_var2 = p2\n",
    "\n",
    "    nUniquePts = int(ceil((n+1)/2.0))\n",
    "    print(nUniquePts)\n",
    "    p = p[0:nUniquePts]\n",
    "    p = abs(p)\n",
    "\n",
    "    mUniquePts = int(ceil((m+1)/2.0))\n",
    "    p2 = p2[0:mUniquePts]\n",
    "    p2 = abs(p2)\n",
    "\n",
    "    #'''\n",
    "    #Left Channel\n",
    "    #'''\n",
    "    p = p / float(n) # scale by the number of points so that\n",
    "                     # the magnitude does not depend on the length \n",
    "                     # of the signal or on its sampling frequency  \n",
    "    p = p**2  # square it to get the power \n",
    "\n",
    "\n",
    "\n",
    "\n",
    "# multiply by two (see technical document for details)\n",
    "# odd nfft excludes Nyquist point\n",
    "    if n % 2 > 0: # we've got odd number of points fft\n",
    "        p[1:len(p)] = p[1:len(p)] * 2\n",
    "    else:\n",
    "        p[1:len(p) -1] = p[1:len(p) - 1] * 2 # we've got even number of points fft\n",
    "\n",
    "    freqArray = arange(0, nUniquePts, 1.0) * (sampFreq / n);\n",
    "    plt.plot(freqArray/1000, 10*log10(p), color='k')\n",
    "    plt.xlabel('LeftChannel_Frequency (kHz)')\n",
    "    plt.ylabel('LeftChannel_Power (dB)')\n",
    "    plt.show()\n",
    "\n",
    "    #'''\n",
    "    #Right Channel\n",
    "    #'''\n",
    "    p2 = p2 / float(m) # scale by the number of points so that\n",
    "             # the magnitude does not depend on the length \n",
    "             # of the signal or on its sampling frequency  \n",
    "    p2 = p2**2  # square it to get the power \n",
    "\n",
    "\n",
    "\n",
    "\n",
    "    # multiply by two (see technical document for details)\n",
    "    # odd nfft excludes Nyquist point\n",
    "    if m % 2 > 0: # we've got odd number of points fft\n",
    "         p2[1:len(p2)] = p2[1:len(p2)] * 2\n",
    "    else:\n",
    "         p2[1:len(p2) -1] = p2[1:len(p2) - 1] * 2 # we've got even number of points fft\n",
    "\n",
    "    freqArray2 = arange(0, mUniquePts, 1.0) * (sampFreq / m);\n",
    "    plt.plot(freqArray2/1000, 10*log10(p2), color='k')\n",
    "    plt.xlabel('RightChannel_Frequency (kHz)')\n",
    "    plt.ylabel('RightChannel_Power (dB)')\n",
    "    plt.show()\n",
    "    #return freqArray, freqArray2\n",
    "    return ma_var, ma_var2\n",
    "    \n",
    "gauchefreq, droitefreq = plot(\"test.wav\")"
   ]
  },
  {
   "cell_type": "code",
   "execution_count": 21,
   "metadata": {},
   "outputs": [
    {
     "name": "stdout",
     "output_type": "stream",
     "text": [
      "[-51.08520508+0.j         -51.14033536+0.16985206j\n",
      " -51.06131516+0.4239557j  ... -51.06131516-0.4239557j\n",
      " -51.14033536-0.16985206j   0.        +0.j        ] [-55.65054321+0.j         -55.61212369+0.16692148j\n",
      " -55.68302304+0.39348143j ... -55.68302304-0.39348143j\n",
      " -55.61212369-0.16692148j   0.        +0.j        ]\n",
      "8833225 8833225\n",
      "8833224 8833224\n",
      "[-6.58962808e-18-2.96365157e-17j -3.05175781e-05-4.39651937e-17j\n",
      "  2.88296229e-18-3.93144974e-17j ...  4.39453125e-03-3.15780566e-17j\n",
      "  3.44848633e-03-3.83151002e-17j  2.22778320e-03-2.95456136e-17j]\n",
      "droite\n",
      "[3.29481404e-18-1.92702054e-17j 1.21496268e-17-1.88027544e-17j\n",
      " 1.23555527e-17-2.24975842e-17j ... 4.97436523e-03-1.25489392e-17j\n",
      " 4.48608398e-03-3.57637818e-17j 2.68554688e-03-1.62855021e-17j]\n"
     ]
    }
   ],
   "source": [
    "#Tourne soit a l infini soit juste tres longtemps\n",
    "gauchefreq2 = concatenate((gauchefreq, array([0])))\n",
    "#gauchefreq2 = gauchefreq[1:]\n",
    "droitefreq2 = concatenate((droitefreq, array([0])))\n",
    "#droitefreq2 = droitefreq[1:]\n",
    "print(gauchefreq2, droitefreq2)\n",
    "print(len(gauchefreq2), len(droitefreq2))\n",
    "#gauche = fft.ifft(gauchefreq2)\n",
    "gauche = fft.ifft(gauchefreq)\n",
    "#droite = fft.ifft(droitefreq2)\n",
    "droite = fft.ifft(droitefreq)\n",
    "print(len(gauche), len(droite))\n",
    "print(gauche)\n",
    "print(\"droite\")\n",
    "print(droite)"
   ]
  },
  {
   "cell_type": "code",
   "execution_count": null,
   "metadata": {},
   "outputs": [],
   "source": [
    "# Si on doit traiter tout les sons en mono il faut le reconvertir en stereo \n",
    "# Apparemment cette fonction marche faudra tester\n",
    "#import wave, array\n",
    "#\n",
    "#def make_stereo(file1, output):\n",
    "#    ifile = wave.open(file1)\n",
    "#    print ifile.getparams()\n",
    "#    # (1, 2, 44100, 2013900, 'NONE', 'not compressed')\n",
    "#    (nchannels, sampwidth, framerate, nframes, comptype, compname) = ifile.getparams()\n",
    "#    assert comptype == 'NONE'  # Compressed not supported yet\n",
    "#    array_type = {1:'B', 2: 'h', 4: 'l'}[sampwidth]\n",
    "#    left_channel = array.array(array_type, ifile.readframes(nframes))[::nchannels]\n",
    "#    ifile.close()\n",
    "#\n",
    "#    stereo = 2 * left_channel\n",
    "#    stereo[0::2] = stereo[1::2] = left_channel\n",
    "#\n",
    "#    ofile = wave.open(output, 'w')\n",
    "#    ofile.setparams((2, sampwidth, framerate, nframes, comptype, compname))\n",
    "#    ofile.writeframes(stereo.tostring())\n",
    "#    ofile.close()\n",
    "#\n",
    "#make_stereo(\"Input.wav\", \"Output.wav\")"
   ]
  },
  {
   "cell_type": "code",
   "execution_count": 22,
   "metadata": {},
   "outputs": [],
   "source": [
    "def make_stereo(left, right):\n",
    "    stereo = []\n",
    "    for i in range(0, len(left)):\n",
    "        stereo += [[left[i]] + [right[i]]]\n",
    "    return asarray(stereo, dtype = np.int16)"
   ]
  },
  {
   "cell_type": "code",
   "execution_count": 24,
   "metadata": {},
   "outputs": [
    {
     "name": "stdout",
     "output_type": "stream",
     "text": [
      "apres 0\n",
      "Apres le for\n",
      "[0.00000000e+00 2.49625731e-03 4.99251462e-03 ... 4.40999925e+04\n",
      " 4.40999950e+04 4.40999975e+04]\n",
      "spectre\n",
      "[[0.00000000e+00 0.00000000e+00]\n",
      " [4.58211144e-05 4.58211144e-05]\n",
      " [0.00000000e+00 0.00000000e+00]\n",
      " ...\n",
      " [1.40670821e-02 8.70601173e-04]\n",
      " [1.19134897e-02 1.55791789e-03]\n",
      " [7.37719941e-03 6.87316716e-04]]\n"
     ]
    },
    {
     "ename": "IndexError",
     "evalue": "invalid index to scalar variable.",
     "output_type": "error",
     "traceback": [
      "\u001b[0;31m---------------------------------------------------------------------------\u001b[0m",
      "\u001b[0;31mIndexError\u001b[0m                                Traceback (most recent call last)",
      "\u001b[0;32m<ipython-input-24-e34dfc9f0c67>\u001b[0m in \u001b[0;36m<module>\u001b[0;34m\u001b[0m\n\u001b[1;32m     22\u001b[0m \u001b[0;34m\u001b[0m\u001b[0m\n\u001b[1;32m     23\u001b[0m \u001b[0mfigure\u001b[0m\u001b[0;34m(\u001b[0m\u001b[0mfigsize\u001b[0m\u001b[0;34m=\u001b[0m\u001b[0;34m(\u001b[0m\u001b[0;36m12\u001b[0m\u001b[0;34m,\u001b[0m\u001b[0;36m4\u001b[0m\u001b[0;34m)\u001b[0m\u001b[0;34m)\u001b[0m\u001b[0;34m\u001b[0m\u001b[0;34m\u001b[0m\u001b[0m\n\u001b[0;32m---> 24\u001b[0;31m \u001b[0mtracerSpectre2\u001b[0m\u001b[0;34m(\u001b[0m\u001b[0mdata\u001b[0m\u001b[0;34m,\u001b[0m\u001b[0mfreq\u001b[0m\u001b[0;34m)\u001b[0m\u001b[0;34m\u001b[0m\u001b[0;34m\u001b[0m\u001b[0m\n\u001b[0m\u001b[1;32m     25\u001b[0m \u001b[0;31m#axis([0,50000,0,1])\u001b[0m\u001b[0;34m\u001b[0m\u001b[0;34m\u001b[0m\u001b[0;34m\u001b[0m\u001b[0m\n",
      "\u001b[0;32m<ipython-input-24-e34dfc9f0c67>\u001b[0m in \u001b[0;36mtracerSpectre2\u001b[0;34m(data, rate)\u001b[0m\n\u001b[1;32m     13\u001b[0m     \u001b[0mprint\u001b[0m\u001b[0;34m(\u001b[0m\u001b[0mspectre\u001b[0m\u001b[0;34m)\u001b[0m\u001b[0;34m\u001b[0m\u001b[0;34m\u001b[0m\u001b[0m\n\u001b[1;32m     14\u001b[0m     \u001b[0;32mfor\u001b[0m \u001b[0mk\u001b[0m \u001b[0;32min\u001b[0m \u001b[0mfreq\u001b[0m\u001b[0;34m:\u001b[0m\u001b[0;34m\u001b[0m\u001b[0;34m\u001b[0m\u001b[0m\n\u001b[0;32m---> 15\u001b[0;31m         \u001b[0mvlines\u001b[0m\u001b[0;34m(\u001b[0m\u001b[0mk\u001b[0m\u001b[0;34m[\u001b[0m\u001b[0;36m0\u001b[0m\u001b[0;34m]\u001b[0m\u001b[0;34m,\u001b[0m \u001b[0;36m0\u001b[0m\u001b[0;34m,\u001b[0m \u001b[0mspectre\u001b[0m\u001b[0;34m,\u001b[0m \u001b[0;34m'r'\u001b[0m\u001b[0;34m)\u001b[0m\u001b[0;34m\u001b[0m\u001b[0;34m\u001b[0m\u001b[0m\n\u001b[0m\u001b[1;32m     16\u001b[0m         \u001b[0mvlines\u001b[0m\u001b[0;34m(\u001b[0m\u001b[0mk\u001b[0m\u001b[0;34m[\u001b[0m\u001b[0;36m1\u001b[0m\u001b[0;34m]\u001b[0m\u001b[0;34m,\u001b[0m \u001b[0;36m0\u001b[0m\u001b[0;34m,\u001b[0m \u001b[0mspectre\u001b[0m\u001b[0;34m,\u001b[0m \u001b[0;34m'r'\u001b[0m\u001b[0;34m)\u001b[0m\u001b[0;34m\u001b[0m\u001b[0;34m\u001b[0m\u001b[0m\n\u001b[1;32m     17\u001b[0m     \u001b[0mprint\u001b[0m\u001b[0;34m(\u001b[0m\u001b[0;34m\"apres for 2\"\u001b[0m\u001b[0;34m)\u001b[0m\u001b[0;34m\u001b[0m\u001b[0;34m\u001b[0m\u001b[0m\n",
      "\u001b[0;31mIndexError\u001b[0m: invalid index to scalar variable."
     ]
    },
    {
     "data": {
      "text/plain": [
       "<Figure size 864x288 with 0 Axes>"
      ]
     },
     "metadata": {},
     "output_type": "display_data"
    }
   ],
   "source": [
    "# Voir un éventuelle probleme d'échantillon non puissance de 2\n",
    "# https://stackoverflow.com/questions/47982785/python-performing-fft-on-music-file\n",
    "def tracerSpectre2(data,rate):\n",
    "    spectre = absolute(fft.fft(data))\n",
    "    spectre = spectre/spectre.max()#fait un ratio\n",
    "    n = spectre.size\n",
    "    freq = zeros(n)\n",
    "    print(\"apres 0\")\n",
    "    for k in range(n):\n",
    "        freq[k] = 1.0/n*rate*k\n",
    "    print(\"Apres le for\")\n",
    "    #vlines(freq,[0],spectre,'r')#x, ymin, ymax, color permet de tracer des lignes verticales\n",
    "    print(freq)\n",
    "    print(\"spectre\")\n",
    "    print(spectre)\n",
    "    for k in freq:\n",
    "        vlines(k[0], 0, spectre, 'r')\n",
    "        vlines(k[1], 0, spectre, 'r')\n",
    "    print(\"apres for 2\")\n",
    "    xlabel('f (Hz)')\n",
    "    ylabel('A')\n",
    "    axis([0,50000,0,1])\n",
    "    grid()\n",
    "    \n",
    "figure(figsize=(12,4))\n",
    "tracerSpectre2(data,freq)\n",
    "#axis([0,50000,0,1])"
   ]
  },
  {
   "cell_type": "code",
   "execution_count": 20,
   "metadata": {},
   "outputs": [
    {
     "name": "stdout",
     "output_type": "stream",
     "text": [
      "[[  0.   0.]\n",
      " [  1.   1.]\n",
      " [  0.   0.]\n",
      " ...\n",
      " [307.  19.]\n",
      " [260.  34.]\n",
      " [161.  15.]]\n"
     ]
    }
   ],
   "source": [
    "spectre = absolute(fft.fft(data[0:len(data)]))\n",
    "print(spectre)"
   ]
  },
  {
   "cell_type": "code",
   "execution_count": 21,
   "metadata": {},
   "outputs": [
    {
     "data": {
      "text/plain": [
       "8833224"
      ]
     },
     "execution_count": 21,
     "metadata": {},
     "output_type": "execute_result"
    }
   ],
   "source": [
    "len(spectre)"
   ]
  },
  {
   "cell_type": "code",
   "execution_count": 23,
   "metadata": {},
   "outputs": [
    {
     "name": "stderr",
     "output_type": "stream",
     "text": [
      "/home/parallels/.local/lib/python3.6/site-packages/numpy/core/numeric.py:501: ComplexWarning: Casting complex values to real discards the imaginary part\n",
      "  return array(a, dtype, copy=False, order=order)\n"
     ]
    },
    {
     "name": "stdout",
     "output_type": "stream",
     "text": [
      "8833224\n",
      "[[0 0]\n",
      " [0 0]\n",
      " [0 0]\n",
      " ...\n",
      " [0 0]\n",
      " [0 0]\n",
      " [0 0]]\n"
     ]
    }
   ],
   "source": [
    "#Test de réecoute après ifft + remise en stereo\n",
    "#gauche = fft.ifft(gauchefreq)\n",
    "#droite = fft.ifft(droitefreq)\n",
    "signal = make_stereo(gauche, droite)\n",
    "print(len(signal))\n",
    "print(signal)\n",
    "scipy.io.wavfile.write('reecrit.wav', 44100, signal)"
   ]
  },
  {
   "cell_type": "code",
   "execution_count": 33,
   "metadata": {},
   "outputs": [
    {
     "name": "stdout",
     "output_type": "stream",
     "text": [
      "0\n",
      "2908390\n"
     ]
    }
   ],
   "source": [
    "#test du suppression des hautes fréquences\n",
    "spectretest = []\n",
    "print(len(spectretest))\n",
    "for freq in spectre:\n",
    "    if (freq[0] > 20 and freq [1] > 20) and (freq[0] < 20000 and freq[1] < 20000):\n",
    "        spectretest += [freq]\n",
    "print(len(spectretest))\n",
    "#print(spectretest) # Fais planter le noyau"
   ]
  },
  {
   "cell_type": "code",
   "execution_count": 48,
   "metadata": {},
   "outputs": [
    {
     "name": "stdout",
     "output_type": "stream",
     "text": [
      "[[386. 349.]\n",
      " [514. 487.]\n",
      " [468. 438.]\n",
      " ...\n",
      " [264. 236.]\n",
      " [123. 102.]\n",
      " [147. 113.]]\n"
     ]
    }
   ],
   "source": [
    "#Test de réécoute après réduction du spectre\n",
    "signal = fft.ifft(spectretest).real\n",
    "print(signal)\n",
    "freq2 = 44100\n",
    "scipy.io.wavfile.write('reecrit.wav', freq2, signal)"
   ]
  },
  {
   "cell_type": "code",
   "execution_count": null,
   "metadata": {},
   "outputs": [],
   "source": []
  }
 ],
 "metadata": {
  "kernelspec": {
   "display_name": "Python 3",
   "language": "python",
   "name": "python3"
  },
  "language_info": {
   "codemirror_mode": {
    "name": "ipython",
    "version": 3
   },
   "file_extension": ".py",
   "mimetype": "text/x-python",
   "name": "python",
   "nbconvert_exporter": "python",
   "pygments_lexer": "ipython3",
   "version": "3.6.7"
  }
 },
 "nbformat": 4,
 "nbformat_minor": 2
}
