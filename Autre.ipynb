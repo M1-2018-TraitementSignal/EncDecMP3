{
 "cells": [
  {
   "cell_type": "code",
   "execution_count": null,
   "metadata": {},
   "outputs": [],
   "source": [
    "print(type(tab[0]))\n",
    "print(tab[0:5])\n",
    "print(type(tab[0]))\n",
    "#print(tab[0].tolist())\n",
    "#a = tab[0].tolist()\n",
    "#b = tab[0:5].tolist()\n",
    "#print(a)\n",
    "#print(b)\n",
    "print(tab[0].tolist())\n",
    "\n",
    "tab1 = tab[0:5]\n",
    "tab2 = []\n",
    "for i in range (len(tab1)):\n",
    "    tab2 = tab2 + tab1[i].tolist()\n",
    "print(tab2)\n",
    "print(type(tab2[0]))\n",
    "tab3 = str(tab2)\n",
    "print(tab3)\n",
    "print(type(tab3))"
   ]
  },
  {
   "cell_type": "code",
   "execution_count": 4,
   "metadata": {},
   "outputs": [
    {
     "name": "stdout",
     "output_type": "stream",
     "text": [
      "Populating the interactive namespace from numpy and matplotlib\n"
     ]
    }
   ],
   "source": [
    "%pylab inline"
   ]
  },
  {
   "cell_type": "code",
   "execution_count": 26,
   "metadata": {},
   "outputs": [],
   "source": [
    "def autre(tab, fichier):\n",
    "    tab1 = tab[0:5]\n",
    "    tab2 = [[0]] * len(tab1)\n",
    "    for i in range(len(tab1)):\n",
    "        tab2[i] = tab1[i][0].tolist()\n",
    "    fichier.write(str(tab2))\n",
    "    return tab2     "
   ]
  },
  {
   "cell_type": "code",
   "execution_count": 29,
   "metadata": {},
   "outputs": [
    {
     "name": "stdout",
     "output_type": "stream",
     "text": [
      "[array([[0., 0.]]), array([[-5., -4.]]), array([[-433., -413.]]), array([[-451., -439.]]), array([[-552., -532.]])]\n"
     ]
    }
   ],
   "source": [
    "fichier = open('testautre.txt', 'w')\n",
    "tab = [array([[0., 0.]]), array([[-5., -4.]]), array([[-433., -413.]]), array([[-451., -439.]]), array([[-552., -532.]])]\n",
    "print(tab)\n",
    "a = autre(tab, fichier)\n",
    "fichier.close()"
   ]
  },
  {
   "cell_type": "code",
   "execution_count": 30,
   "metadata": {},
   "outputs": [
    {
     "name": "stdout",
     "output_type": "stream",
     "text": [
      "[[0.0, 0.0], [-5.0, -4.0], [-433.0, -413.0], [-451.0, -439.0], [-552.0, -532.0]]\n"
     ]
    }
   ],
   "source": [
    "print(a)"
   ]
  },
  {
   "cell_type": "code",
   "execution_count": 31,
   "metadata": {},
   "outputs": [
    {
     "name": "stdout",
     "output_type": "stream",
     "text": [
      "[[   0.    0.]\n",
      " [  -5.   -4.]\n",
      " [-433. -413.]\n",
      " [-451. -439.]\n",
      " [-552. -532.]]\n"
     ]
    }
   ],
   "source": [
    "print(asarray(a))"
   ]
  },
  {
   "cell_type": "code",
   "execution_count": 33,
   "metadata": {},
   "outputs": [
    {
     "name": "stdout",
     "output_type": "stream",
     "text": [
      "<class 'str'>\n"
     ]
    }
   ],
   "source": [
    "fichierarray = open('tableau.txt', 'r')\n",
    "t = fichierarray.read()\n",
    "print(type(t))\n",
    "fichierarray.close()"
   ]
  },
  {
   "cell_type": "code",
   "execution_count": 63,
   "metadata": {},
   "outputs": [
    {
     "name": "stdout",
     "output_type": "stream",
     "text": [
      "<class 'list'>\n",
      "<class 'numpy.ndarray'>\n",
      "<class 'list'>\n",
      "<class 'int'>\n",
      "r\n",
      "5\n",
      "21463533\n",
      "texte\n",
      "[[1, 2, 3], [2, 4, 5], [5, 7, 4]]\n",
      "['[', '[', '1', ',', ' ', '2', ',', ' ', '3', ']', ',', ' ', '[', '2', ',', ' ', '4', ',', ' ', '5', ']', ',', ' ', '[', '5', ',', ' ', '7', ',', ' ', '4', ']', ']']\n"
     ]
    }
   ],
   "source": [
    "print(type(tab))\n",
    "print(type(tab[0]))\n",
    "aux = list(t)\n",
    "# print(type(tab[0][1]))\n",
    "print(type(aux))\n",
    "\n",
    "print(type(len(aux[0])))\n",
    "print(aux[2][0][0])\n",
    "print(len(tab))\n",
    "print(len(aux))\n",
    "zgjsf = [[1,2,3], [2,4,5], [5,7,4]]\n",
    "texte = str(zgjsf)\n",
    "print(\"texte\")\n",
    "print(texte)\n",
    "ret = list(texte)\n",
    "print(ret)"
   ]
  },
  {
   "cell_type": "code",
   "execution_count": 69,
   "metadata": {},
   "outputs": [
    {
     "name": "stdout",
     "output_type": "stream",
     "text": [
      "['[', 'a', 'r', 'r', 'a', 'y', '(', '[', '[', '0', '.', ',', ' ', '0', '.', ']', ']', ')', ',', ' ', 'a', 'r', 'r', 'a', 'y', '(', '[', '[', '-', '5', '.', ',', ' ', '-', '4', '.', ']', ']', ')', ',', ' ', 'a', 'r', 'r', 'a', 'y', '(', '[', '[', '-']\n",
      "['[', 'a', 'r', 'r', 'a', 'y', '(', '[', '[', '0', '.', ',', ' ', '0', '.', ']', ']', ')', ',', ' ', 'a', 'r', 'r', 'a', 'y', '(', '[', '[', '-', '5', '.', ',', ' ', '-', '4', '.', ']', ']', ')', ',', ' ', 'a', 'r', 'r', 'a', 'y', '(', '[', '[', '-']\n",
      "['[' 'a' 'r' 'r' 'a' 'y' '(' '[' '[' '0' '.' ',' ' ' '0' '.' ']' ']' ')'\n",
      " ',' ' ' 'a' 'r' 'r' 'a' 'y' '(' '[' '[' '-' '5' '.' ',' ' ' '-' '4' '.'\n",
      " ']' ']' ')' ',' ' ' 'a' 'r' 'r' 'a' 'y' '(' '[' '[' '-']\n"
     ]
    }
   ],
   "source": [
    "def autreread(nomfichier):\n",
    "    fichier = open(nomfichier, 'r')\n",
    "    tab = fichier.read()\n",
    "    fichier.close()\n",
    "    tab = list(tab[0:50])\n",
    "    tab2 = []\n",
    "    print(tab)\n",
    "    for element in tab:\n",
    "#         element = int(element)\n",
    "#         print(element)\n",
    "        tab2 = tab2 + [element]\n",
    "    print(tab2)\n",
    "    print(asarray(tab2))\n",
    "    \n",
    "#     tab1 = tab[0:5]\n",
    "#     tab2 = [[0]] * len(tab1)\n",
    "#     for i in range(len(tab1)):\n",
    "#         tab2[i] = tab1[i][0].tolist()\n",
    "#     fichier.write(str(tab2))\n",
    "#     return tab2    \n",
    "\n",
    "autreread('tableau.txt')"
   ]
  },
  {
   "cell_type": "code",
   "execution_count": null,
   "metadata": {},
   "outputs": [],
   "source": []
  }
 ],
 "metadata": {
  "kernelspec": {
   "display_name": "Python 3",
   "language": "python",
   "name": "python3"
  },
  "language_info": {
   "codemirror_mode": {
    "name": "ipython",
    "version": 3
   },
   "file_extension": ".py",
   "mimetype": "text/x-python",
   "name": "python",
   "nbconvert_exporter": "python",
   "pygments_lexer": "ipython3",
   "version": "3.6.5"
  }
 },
 "nbformat": 4,
 "nbformat_minor": 2
}
