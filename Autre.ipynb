{
 "cells": [
  {
   "cell_type": "code",
   "execution_count": 1,
   "metadata": {},
   "outputs": [
    {
     "ename": "NameError",
     "evalue": "name 'tab' is not defined",
     "output_type": "error",
     "traceback": [
      "\u001b[0;31m---------------------------------------------------------------------------\u001b[0m",
      "\u001b[0;31mNameError\u001b[0m                                 Traceback (most recent call last)",
      "\u001b[0;32m<ipython-input-1-f139e4a2509f>\u001b[0m in \u001b[0;36m<module>\u001b[0;34m()\u001b[0m\n\u001b[0;32m----> 1\u001b[0;31m \u001b[0mprint\u001b[0m\u001b[0;34m(\u001b[0m\u001b[0mtype\u001b[0m\u001b[0;34m(\u001b[0m\u001b[0mtab\u001b[0m\u001b[0;34m[\u001b[0m\u001b[0;36m0\u001b[0m\u001b[0;34m]\u001b[0m\u001b[0;34m)\u001b[0m\u001b[0;34m)\u001b[0m\u001b[0;34m\u001b[0m\u001b[0m\n\u001b[0m\u001b[1;32m      2\u001b[0m \u001b[0mprint\u001b[0m\u001b[0;34m(\u001b[0m\u001b[0mtab\u001b[0m\u001b[0;34m[\u001b[0m\u001b[0;36m0\u001b[0m\u001b[0;34m:\u001b[0m\u001b[0;36m5\u001b[0m\u001b[0;34m]\u001b[0m\u001b[0;34m)\u001b[0m\u001b[0;34m\u001b[0m\u001b[0m\n\u001b[1;32m      3\u001b[0m \u001b[0mprint\u001b[0m\u001b[0;34m(\u001b[0m\u001b[0mtype\u001b[0m\u001b[0;34m(\u001b[0m\u001b[0mtab\u001b[0m\u001b[0;34m[\u001b[0m\u001b[0;36m0\u001b[0m\u001b[0;34m]\u001b[0m\u001b[0;34m)\u001b[0m\u001b[0;34m)\u001b[0m\u001b[0;34m\u001b[0m\u001b[0m\n\u001b[1;32m      4\u001b[0m \u001b[0;31m#print(tab[0].tolist())\u001b[0m\u001b[0;34m\u001b[0m\u001b[0;34m\u001b[0m\u001b[0m\n\u001b[1;32m      5\u001b[0m \u001b[0;31m#a = tab[0].tolist()\u001b[0m\u001b[0;34m\u001b[0m\u001b[0;34m\u001b[0m\u001b[0m\n",
      "\u001b[0;31mNameError\u001b[0m: name 'tab' is not defined"
     ]
    }
   ],
   "source": [
    "# print(type(tab[0]))\n",
    "# print(tab[0:5])\n",
    "# print(type(tab[0]))\n",
    "#print(tab[0].tolist())\n",
    "#a = tab[0].tolist()\n",
    "#b = tab[0:5].tolist()\n",
    "#print(a)\n",
    "#print(b)\n",
    "# print(tab[0].tolist())\n",
    "\n",
    "tab1 = tab[0:5]\n",
    "tab2 = []\n",
    "for i in range (len(tab1)):\n",
    "    tab2 = tab2 + tab1[i].tolist()\n",
    "print(tab2)\n",
    "print(type(tab2[0]))\n",
    "tab3 = str(tab2)\n",
    "print(tab3)\n",
    "print(type(tab3))"
   ]
  },
  {
   "cell_type": "code",
   "execution_count": 2,
   "metadata": {},
   "outputs": [
    {
     "name": "stdout",
     "output_type": "stream",
     "text": [
      "Populating the interactive namespace from numpy and matplotlib\n"
     ]
    }
   ],
   "source": [
    "%pylab inline"
   ]
  },
  {
   "cell_type": "code",
   "execution_count": 3,
   "metadata": {},
   "outputs": [],
   "source": [
    "def autre(tab, fichier):\n",
    "    tab1 = tab[0:5]\n",
    "    tab2 = [[0]] * len(tab1)\n",
    "    for i in range(len(tab1)):\n",
    "        tab2[i] = tab1[i][0].tolist()\n",
    "    fichier.write(str(tab2))\n",
    "    return tab2     "
   ]
  },
  {
   "cell_type": "code",
   "execution_count": 4,
   "metadata": {},
   "outputs": [
    {
     "name": "stdout",
     "output_type": "stream",
     "text": [
      "[array([[0., 0.]]), array([[-5., -4.]]), array([[-433., -413.]]), array([[-451., -439.]]), array([[-552., -532.]])]\n"
     ]
    }
   ],
   "source": [
    "fichier = open('testautre.txt', 'w')\n",
    "tab = [array([[0., 0.]]), array([[-5., -4.]]), array([[-433., -413.]]), array([[-451., -439.]]), array([[-552., -532.]])]\n",
    "print(tab)\n",
    "a = autre(tab, fichier)\n",
    "fichier.close()"
   ]
  },
  {
   "cell_type": "code",
   "execution_count": 5,
   "metadata": {},
   "outputs": [
    {
     "name": "stdout",
     "output_type": "stream",
     "text": [
      "[[0.0, 0.0], [-5.0, -4.0], [-433.0, -413.0], [-451.0, -439.0], [-552.0, -532.0]]\n"
     ]
    }
   ],
   "source": [
    "print(a)"
   ]
  },
  {
   "cell_type": "code",
   "execution_count": 6,
   "metadata": {},
   "outputs": [
    {
     "name": "stdout",
     "output_type": "stream",
     "text": [
      "[[   0.    0.]\n",
      " [  -5.   -4.]\n",
      " [-433. -413.]\n",
      " [-451. -439.]\n",
      " [-552. -532.]]\n"
     ]
    }
   ],
   "source": [
    "print(asarray(a))"
   ]
  },
  {
   "cell_type": "code",
   "execution_count": 7,
   "metadata": {},
   "outputs": [
    {
     "name": "stdout",
     "output_type": "stream",
     "text": [
      "<class 'str'>\n"
     ]
    }
   ],
   "source": [
    "fichierarray = open('tableau.txt', 'r')\n",
    "t = fichierarray.read()\n",
    "print(type(t))\n",
    "fichierarray.close()"
   ]
  },
  {
   "cell_type": "code",
   "execution_count": 8,
   "metadata": {},
   "outputs": [
    {
     "name": "stdout",
     "output_type": "stream",
     "text": [
      "<class 'list'>\n",
      "<class 'numpy.ndarray'>\n",
      "<class 'list'>\n",
      "<class 'int'>\n",
      "r\n",
      "5\n",
      "21463533\n",
      "texte\n",
      "[[1, 2, 3], [2, 4, 5], [5, 7, 4]]\n",
      "['[', '[', '1', ',', ' ', '2', ',', ' ', '3', ']', ',', ' ', '[', '2', ',', ' ', '4', ',', ' ', '5', ']', ',', ' ', '[', '5', ',', ' ', '7', ',', ' ', '4', ']', ']']\n"
     ]
    }
   ],
   "source": [
    "print(type(tab))\n",
    "print(type(tab[0]))\n",
    "aux = list(t)\n",
    "# print(type(tab[0][1]))\n",
    "print(type(aux))\n",
    "\n",
    "print(type(len(aux[0])))\n",
    "print(aux[2][0][0])\n",
    "print(len(tab))\n",
    "print(len(aux))\n",
    "zgjsf = [[1,2,3], [2,4,5], [5,7,4]]\n",
    "texte = str(zgjsf)\n",
    "print(\"texte\")\n",
    "print(texte)\n",
    "ret = list(texte)\n",
    "print(ret)"
   ]
  },
  {
   "cell_type": "code",
   "execution_count": 9,
   "metadata": {},
   "outputs": [
    {
     "name": "stdout",
     "output_type": "stream",
     "text": [
      "['[', 'a', 'r', 'r', 'a', 'y', '(', '[', '[', '0', '.', ',', ' ', '0', '.', ']', ']', ')', ',', ' ', 'a', 'r', 'r', 'a', 'y', '(', '[', '[', '-', '5', '.', ',', ' ', '-', '4', '.', ']', ']', ')', ',', ' ', 'a', 'r', 'r', 'a', 'y', '(', '[', '[', '-']\n",
      "['[', 'a', 'r', 'r', 'a', 'y', '(', '[', '[', '0', '.', ',', ' ', '0', '.', ']', ']', ')', ',', ' ', 'a', 'r', 'r', 'a', 'y', '(', '[', '[', '-', '5', '.', ',', ' ', '-', '4', '.', ']', ']', ')', ',', ' ', 'a', 'r', 'r', 'a', 'y', '(', '[', '[', '-']\n",
      "['[' 'a' 'r' 'r' 'a' 'y' '(' '[' '[' '0' '.' ',' ' ' '0' '.' ']' ']' ')'\n",
      " ',' ' ' 'a' 'r' 'r' 'a' 'y' '(' '[' '[' '-' '5' '.' ',' ' ' '-' '4' '.'\n",
      " ']' ']' ')' ',' ' ' 'a' 'r' 'r' 'a' 'y' '(' '[' '[' '-']\n"
     ]
    }
   ],
   "source": [
    "def autreread(nomfichier):\n",
    "    fichier = open(nomfichier, 'r')\n",
    "    tab = fichier.read()\n",
    "    fichier.close()\n",
    "    tab = list(tab[0:50])\n",
    "    tab2 = []\n",
    "    print(tab)\n",
    "    for element in tab:\n",
    "#         element = int(element)\n",
    "#         print(element)\n",
    "        tab2 = tab2 + [element]\n",
    "    print(tab2)\n",
    "    print(asarray(tab2))\n",
    "    \n",
    "#     tab1 = tab[0:5]\n",
    "#     tab2 = [[0]] * len(tab1)\n",
    "#     for i in range(len(tab1)):\n",
    "#         tab2[i] = tab1[i][0].tolist()\n",
    "#     fichier.write(str(tab2))\n",
    "#     return tab2    \n",
    "\n",
    "autreread('tableau.txt')"
   ]
  },
  {
   "cell_type": "code",
   "execution_count": null,
   "metadata": {},
   "outputs": [],
   "source": []
  },
  {
   "cell_type": "code",
   "execution_count": null,
   "metadata": {},
   "outputs": [],
   "source": []
  },
  {
   "cell_type": "code",
   "execution_count": 10,
   "metadata": {},
   "outputs": [],
   "source": [
    "# utilisation de pickle pour passer d'un str en liste\n",
    "\n",
    "import pickle as pk"
   ]
  },
  {
   "cell_type": "code",
   "execution_count": 11,
   "metadata": {},
   "outputs": [],
   "source": [
    "fichier = open('fichieraux.txt', 'w')\n",
    "a = [array([[0., 0.]]), array([[-5., -4.]]), array([[-433., -413.]]), array([[-451., -439.]]), array([[-552., -532.]])]\n",
    "fichier.write(str(a))\n",
    "fichier.close()"
   ]
  },
  {
   "cell_type": "code",
   "execution_count": 12,
   "metadata": {},
   "outputs": [
    {
     "name": "stdout",
     "output_type": "stream",
     "text": [
      "[array([[0., 0.]]), array([[-5., -4.]]), array([[-433., -413.]]), array([[-451., -439.]]), array([[-552., -532.]])]\n",
      "<class 'str'>\n"
     ]
    }
   ],
   "source": [
    "fichier = open('fichieraux.txt', 'r')\n",
    "contenu = fichier.read()\n",
    "fichier.close()\n",
    "print(contenu)\n",
    "print(type(contenu))"
   ]
  },
  {
   "cell_type": "code",
   "execution_count": 13,
   "metadata": {},
   "outputs": [
    {
     "name": "stdout",
     "output_type": "stream",
     "text": [
      "['[', 'a', 'r', 'r', 'a', 'y', '(', '[', '[', '0', '.', ',', ' ', '0', '.', ']', ']', ')', ',', ' ', 'a', 'r', 'r', 'a', 'y', '(', '[', '[', '-', '5', '.', ',', ' ', '-', '4', '.', ']', ']', ')', ',', ' ', 'a', 'r', 'r', 'a', 'y', '(', '[', '[', '-', '4', '3', '3', '.', ',', ' ', '-', '4', '1', '3', '.', ']', ']', ')', ',', ' ', 'a', 'r', 'r', 'a', 'y', '(', '[', '[', '-', '4', '5', '1', '.', ',', ' ', '-', '4', '3', '9', '.', ']', ']', ')', ',', ' ', 'a', 'r', 'r', 'a', 'y', '(', '[', '[', '-', '5', '5', '2', '.', ',', ' ', '-', '5', '3', '2', '.', ']', ']', ')', ']']\n",
      "<class 'str'>\n"
     ]
    }
   ],
   "source": [
    "b = list(contenu)\n",
    "print(b)\n",
    "print(type(b[0]))\n"
   ]
  },
  {
   "cell_type": "code",
   "execution_count": 80,
   "metadata": {},
   "outputs": [
    {
     "ename": "ModuleNotFoundError",
     "evalue": "No module named 'triche/klepto'",
     "output_type": "error",
     "traceback": [
      "\u001b[0;31m---------------------------------------------------------------------------\u001b[0m",
      "\u001b[0;31mModuleNotFoundError\u001b[0m                       Traceback (most recent call last)",
      "\u001b[0;32m<ipython-input-80-9c0524f7f339>\u001b[0m in \u001b[0;36m<module>\u001b[0;34m()\u001b[0m\n\u001b[0;32m----> 1\u001b[0;31m \u001b[0m__import__\u001b[0m\u001b[0;34m(\u001b[0m\u001b[0;34m'triche/klepto'\u001b[0m\u001b[0;34m)\u001b[0m\u001b[0;34m\u001b[0m\u001b[0m\n\u001b[0m\u001b[1;32m      2\u001b[0m \u001b[0;34m\u001b[0m\u001b[0m\n\u001b[1;32m      3\u001b[0m \u001b[0mfichier\u001b[0m \u001b[0;34m=\u001b[0m \u001b[0mopen\u001b[0m\u001b[0;34m(\u001b[0m\u001b[0;34m'fichieraux.txt'\u001b[0m\u001b[0;34m,\u001b[0m \u001b[0;34m'r'\u001b[0m\u001b[0;34m)\u001b[0m\u001b[0;34m\u001b[0m\u001b[0m\n\u001b[1;32m      4\u001b[0m \u001b[0;31m# print(type(fichier))\u001b[0m\u001b[0;34m\u001b[0m\u001b[0;34m\u001b[0m\u001b[0m\n\u001b[1;32m      5\u001b[0m \u001b[0mcontenu\u001b[0m \u001b[0;34m=\u001b[0m \u001b[0mfichier\u001b[0m\u001b[0;34m.\u001b[0m\u001b[0mread\u001b[0m\u001b[0;34m(\u001b[0m\u001b[0;34m)\u001b[0m\u001b[0;34m\u001b[0m\u001b[0m\n",
      "\u001b[0;31mModuleNotFoundError\u001b[0m: No module named 'triche/klepto'"
     ]
    }
   ],
   "source": [
    "__import__('triche/klepto')\n",
    "\n",
    "fichier = open('fichieraux.txt', 'r')\n",
    "# print(type(fichier))\n",
    "contenu = fichier.read()\n",
    "fichier.close()\n",
    "\n",
    "\n",
    "print(contenu)\n",
    "print(type(contenu))\n",
    "\n",
    "pk.dump(contenu, open('fichierpickle.txt', 'wb'))\n",
    "\n",
    "\n",
    "fichier2 = open('fichierpickle.txt', 'rb')\n",
    "test = pk._Unpickler(fichier2)\n",
    "fichier2.close()\n",
    "\n",
    "print(test)\n",
    "\n",
    "\n",
    "\n",
    "\n",
    "# fichier2 = open('fichierpickle.txt', 'w')\n",
    "# print(type(contenu))\n",
    "# pk.dump(fichier, test)\n",
    "\n",
    "# fichier.close()\n",
    "# fichier2.close()"
   ]
  },
  {
   "cell_type": "code",
   "execution_count": 34,
   "metadata": {},
   "outputs": [],
   "source": [
    "fichier = open('fichieraux.txt', 'wb')\n",
    "test = byte([array([[0., 0.]]), array([[-5., -4.]]), array([[-433., -413.]]), array([[-451., -439.]]), \n",
    "             array([[-552., -532.]])])\n",
    "fichier.write(test)\n",
    "fichier.close()"
   ]
  },
  {
   "cell_type": "code",
   "execution_count": 38,
   "metadata": {},
   "outputs": [
    {
     "name": "stdout",
     "output_type": "stream",
     "text": [
      "b'\\x00\\x00\\xfb\\xfcOc=I\\xd8\\xec'\n",
      "[0, 0, 251, 252, 79, 99, 61, 73, 216, 236]\n",
      "<class 'list'>\n"
     ]
    }
   ],
   "source": [
    "fichier = open('fichieraux.txt', 'rb')\n",
    "contenu = fichier.read()\n",
    "fichier.close()\n",
    "\n",
    "print(contenu)\n",
    "print(list(contenu))\n",
    "a = list(contenu)\n",
    "print(type(a))"
   ]
  },
  {
   "cell_type": "code",
   "execution_count": 45,
   "metadata": {},
   "outputs": [
    {
     "name": "stdout",
     "output_type": "stream",
     "text": [
      "b'[array([[0., 0.]]), array([[-5., -4.]]), array([[-433., -413.]]), array([[-451., -439.]]), array([[-552., -532.]])]\\n'\n",
      "b'[array([[0., 0.]]), array([[-5., -4.]]), array([[-433., -413.]]), array([[-451., -439.]]), array([[-552., -532.]])]\\n'\n",
      "<class 'list'>\n",
      "[91, 97, 114, 114, 97, 121, 40, 91, 91, 48, 46, 44, 32, 48, 46, 93, 93, 41, 44, 32, 97, 114, 114, 97, 121, 40, 91, 91, 45, 53, 46, 44, 32, 45, 52, 46, 93, 93, 41, 44, 32, 97, 114, 114, 97, 121, 40, 91, 91, 45, 52, 51, 51, 46, 44, 32, 45, 52, 49, 51, 46, 93, 93, 41, 44, 32, 97, 114, 114, 97, 121, 40, 91, 91, 45, 52, 53, 49, 46, 44, 32, 45, 52, 51, 57, 46, 93, 93, 41, 44, 32, 97, 114, 114, 97, 121, 40, 91, 91, 45, 53, 53, 50, 46, 44, 32, 45, 53, 51, 50, 46, 93, 93, 41, 93, 10]\n"
     ]
    }
   ],
   "source": [
    "fichier2 = open('fichieraux.txt', 'r')\n",
    "contenu = fichier2.read()\n",
    "fichier2.close()\n",
    "\n",
    "# print(contenu)\n",
    "# a = list(contenu)\n",
    "# print(a)\n",
    "\n",
    "fichier2 = open('fichieraux.txt', 'rb')\n",
    "contenu = fichier2.read()\n",
    "fichier2.close()\n",
    "\n",
    "print(contenu)\n",
    "b = asarray(contenu)\n",
    "print(b)\n",
    "a = list(contenu)\n",
    "print(type(a))\n",
    "print(a)"
   ]
  },
  {
   "cell_type": "code",
   "execution_count": null,
   "metadata": {},
   "outputs": [],
   "source": []
  }
 ],
 "metadata": {
  "kernelspec": {
   "display_name": "Python 3",
   "language": "python",
   "name": "python3"
  },
  "language_info": {
   "codemirror_mode": {
    "name": "ipython",
    "version": 3
   },
   "file_extension": ".py",
   "mimetype": "text/x-python",
   "name": "python",
   "nbconvert_exporter": "python",
   "pygments_lexer": "ipython3",
   "version": "3.6.7"
  }
 },
 "nbformat": 4,
 "nbformat_minor": 2
}
