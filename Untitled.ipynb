{
 "cells": [
  {
   "cell_type": "code",
   "execution_count": 4,
   "metadata": {},
   "outputs": [
    {
     "name": "stdout",
     "output_type": "stream",
     "text": [
      "Populating the interactive namespace from numpy and matplotlib\n"
     ]
    }
   ],
   "source": [
    "%pylab inline"
   ]
  },
  {
   "cell_type": "code",
   "execution_count": 5,
   "metadata": {},
   "outputs": [],
   "source": [
    "import scipy\n",
    "import scipy.io.wavfile"
   ]
  },
  {
   "cell_type": "code",
   "execution_count": 10,
   "metadata": {},
   "outputs": [
    {
     "data": {
      "text/plain": [
       "(44100, array([[  0,   0],\n",
       "        [ -1,   0],\n",
       "        [  0,   0],\n",
       "        ...,\n",
       "        [144, 163],\n",
       "        [113, 147],\n",
       "        [ 73,  88]], dtype=int16))"
      ]
     },
     "execution_count": 10,
     "metadata": {},
     "output_type": "execute_result"
    }
   ],
   "source": [
    "scipy.io.wavfile.read('test.wav')"
   ]
  },
  {
   "cell_type": "code",
   "execution_count": 11,
   "metadata": {},
   "outputs": [
    {
     "name": "stdout",
     "output_type": "stream",
     "text": [
      "44100\n",
      "[[  0   0]\n",
      " [ -1   0]\n",
      " [  0   0]\n",
      " ...\n",
      " [144 163]\n",
      " [113 147]\n",
      " [ 73  88]]\n",
      "8833224\n",
      "<class 'numpy.ndarray'>\n",
      "<class 'numpy.ndarray'>\n"
     ]
    }
   ],
   "source": [
    "freq, data = scipy.io.wavfile.read('test.wav')\n",
    "print(freq)\n",
    "print(data)\n",
    "print(len(data))\n",
    "print(type(data))\n",
    "print(type(data[0]))"
   ]
  },
  {
   "cell_type": "code",
   "execution_count": 7,
   "metadata": {},
   "outputs": [],
   "source": [
    "def mafft(file):\n",
    "    freq, data = scipy.io.wavfile.read(file)\n",
    "    res = []\n",
    "    \n",
    "    for i in range (0,int(((len(data)-4) / 10))):\n",
    "        liste = data[10*i:10*(i+1)]\n",
    "        tmp = fft.fft2(liste)\n",
    "        somme = 0\n",
    "        for k in range (0,10):\n",
    "            somme = somme + tmp[k]\n",
    "        fftinv = fft.ifft2([somme / 10])\n",
    "        res = res + [fftinv.real]\n",
    "    return res\n",
    "\n",
    "        \n",
    "# tab = mafft('test.wav')\n",
    "# print(tab[1])\n",
    "    "
   ]
  },
  {
   "cell_type": "code",
   "execution_count": 75,
   "metadata": {},
   "outputs": [
    {
     "name": "stdout",
     "output_type": "stream",
     "text": [
      "883323\n"
     ]
    }
   ],
   "source": [
    "print (len(tab))"
   ]
  },
  {
   "cell_type": "code",
   "execution_count": 12,
   "metadata": {},
   "outputs": [],
   "source": [
    "for i in range (int(((len(data)-4))), (len(data) + 1)):\n",
    "    res = []\n",
    "    liste = data[int(((len(data)-4))):(len(data) + 1)]\n",
    "    tmp = fft.fft2(liste)\n",
    "    somme = 0\n",
    "    for k in range (0, len(liste)):\n",
    "        somme = somme + tmp[k]\n",
    "        # somme = somme + liste[k]\n",
    "    fftinv = fft.ifft2([somme / len(liste)])\n",
    "    res = res + [fftinv.real]\n",
    "# print(res)"
   ]
  },
  {
   "cell_type": "code",
   "execution_count": 13,
   "metadata": {},
   "outputs": [
    {
     "ename": "NameError",
     "evalue": "name 'tab' is not defined",
     "output_type": "error",
     "traceback": [
      "\u001b[0;31m---------------------------------------------------------------------------\u001b[0m",
      "\u001b[0;31mNameError\u001b[0m                                 Traceback (most recent call last)",
      "\u001b[0;32m<ipython-input-13-f7c72d305840>\u001b[0m in \u001b[0;36m<module>\u001b[0;34m()\u001b[0m\n\u001b[0;32m----> 1\u001b[0;31m \u001b[0mtab\u001b[0m \u001b[0;34m=\u001b[0m \u001b[0mtab\u001b[0m \u001b[0;34m+\u001b[0m \u001b[0mres\u001b[0m\u001b[0;34m\u001b[0m\u001b[0;34m\u001b[0m\u001b[0m\n\u001b[0m",
      "\u001b[0;31mNameError\u001b[0m: name 'tab' is not defined"
     ]
    }
   ],
   "source": [
    "tab = tab + res"
   ]
  },
  {
   "cell_type": "code",
   "execution_count": 77,
   "metadata": {},
   "outputs": [
    {
     "name": "stdout",
     "output_type": "stream",
     "text": [
      "883323\n",
      "[[125.75 -11.  ]]\n"
     ]
    }
   ],
   "source": [
    "print(len(tab))\n",
    "print(tab[883322])"
   ]
  },
  {
   "cell_type": "code",
   "execution_count": 14,
   "metadata": {},
   "outputs": [],
   "source": [
    "def restructuration2(tab):\n",
    "    tab1 = tab[0:5]\n",
    "    tab2 = [[0]] * len(tab1)\n",
    "    for i in range(len(tab1)):\n",
    "        tab2[i] = tab1[i][0].tolist()\n",
    "    return tab2"
   ]
  },
  {
   "cell_type": "code",
   "execution_count": 27,
   "metadata": {},
   "outputs": [],
   "source": [
    "def restructuration(tab):\n",
    "    taille = len(tab)\n",
    "    tab2 = [[0]] * taille\n",
    "    for i in range (taille):\n",
    "        tab2[i] = tab[i][0].tolist()\n",
    "    return tab2"
   ]
  },
  {
   "cell_type": "code",
   "execution_count": 4,
   "metadata": {},
   "outputs": [],
   "source": [
    "test = [array([[0., 0.]]), array([[-5., -4.]]), array([[-433., -413.]]), array([[-451., -439.]]),\n",
    "             array([[-552., -532.]])]"
   ]
  },
  {
   "cell_type": "code",
   "execution_count": 16,
   "metadata": {},
   "outputs": [
    {
     "name": "stdout",
     "output_type": "stream",
     "text": [
      "[array([[125.75, -11.  ]])]\n",
      "883323\n"
     ]
    },
    {
     "ename": "NameError",
     "evalue": "name 'freq2' is not defined",
     "output_type": "error",
     "traceback": [
      "\u001b[0;31m---------------------------------------------------------------------------\u001b[0m",
      "\u001b[0;31mNameError\u001b[0m                                 Traceback (most recent call last)",
      "\u001b[0;32m<ipython-input-16-1bf9dab4991a>\u001b[0m in \u001b[0;36m<module>\u001b[0;34m()\u001b[0m\n\u001b[1;32m     21\u001b[0m \u001b[0;34m\u001b[0m\u001b[0m\n\u001b[1;32m     22\u001b[0m \u001b[0mprint\u001b[0m\u001b[0;34m(\u001b[0m\u001b[0mlen\u001b[0m\u001b[0;34m(\u001b[0m\u001b[0mtab\u001b[0m\u001b[0;34m)\u001b[0m\u001b[0;34m)\u001b[0m\u001b[0;34m\u001b[0m\u001b[0;34m\u001b[0m\u001b[0m\n\u001b[0;32m---> 23\u001b[0;31m \u001b[0mscipy\u001b[0m\u001b[0;34m.\u001b[0m\u001b[0mio\u001b[0m\u001b[0;34m.\u001b[0m\u001b[0mwavfile\u001b[0m\u001b[0;34m.\u001b[0m\u001b[0mwrite\u001b[0m\u001b[0;34m(\u001b[0m\u001b[0;34m'reecrit2.wav'\u001b[0m\u001b[0;34m,\u001b[0m \u001b[0mfreq2\u001b[0m\u001b[0;34m,\u001b[0m \u001b[0ma\u001b[0m\u001b[0;34m)\u001b[0m\u001b[0;34m\u001b[0m\u001b[0;34m\u001b[0m\u001b[0m\n\u001b[0m",
      "\u001b[0;31mNameError\u001b[0m: name 'freq2' is not defined"
     ]
    }
   ],
   "source": [
    "tab = mafft('test.wav')\n",
    "\n",
    "\n",
    "for i in range (int(((len(data)-4))), (len(data) + 1)):\n",
    "    res = []\n",
    "    liste = data[int(((len(data)-4))):(len(data) + 1)]\n",
    "    tmp = fft.fft2(liste)\n",
    "    somme = 0\n",
    "    for k in range (0, len(liste)):\n",
    "        somme = somme + liste[k]\n",
    "    fftinv = fft.ifft2([somme / len(liste)])\n",
    "    res = res + [fftinv.real]\n",
    "print(res)\n",
    "\n",
    "tab = tab + res\n",
    "\n",
    "inter = restructuration(tab)\n",
    "donnees = asarray(inter)\n",
    "\n",
    "donnees.dump('donnees.txt')\n",
    "\n",
    "print(len(tab))\n",
    "# scipy.io.wavfile.write('reecrit2.wav', freq2, a)"
   ]
  },
  {
   "cell_type": "code",
   "execution_count": 33,
   "metadata": {},
   "outputs": [],
   "source": [
    "inter = restructuration(tab)\n",
    "donnees = asarray(inter)\n",
    "\n",
    "donnees.dump('donneespropres.txt')"
   ]
  },
  {
   "cell_type": "code",
   "execution_count": 32,
   "metadata": {},
   "outputs": [
    {
     "name": "stdout",
     "output_type": "stream",
     "text": [
      "883323\n",
      "4410\n"
     ]
    }
   ],
   "source": [
    "c = asarray(donnees, dtype = np.int16)\n",
    "print(len(tab))\n",
    "\n",
    "freq2 = freq / 10\n",
    "freq2 = int(freq2)\n",
    "print(freq2)\n",
    "\n",
    "\n",
    "scipy.io.wavfile.write('reecrittest.wav', freq2, c)"
   ]
  },
  {
   "cell_type": "code",
   "execution_count": 34,
   "metadata": {},
   "outputs": [
    {
     "name": "stdout",
     "output_type": "stream",
     "text": [
      "883323\n",
      "4410\n"
     ]
    }
   ],
   "source": [
    "test2 = load('donneespropres.txt')\n",
    "\n",
    "c = asarray(test2, dtype = np.int16)\n",
    "print(len(tab))\n",
    "\n",
    "freq2 = freq / 10\n",
    "freq2 = int(freq2)\n",
    "print(freq2)\n",
    "\n",
    "\n",
    "scipy.io.wavfile.write('reecrittest.wav', freq2, c)"
   ]
  },
  {
   "cell_type": "code",
   "execution_count": 7,
   "metadata": {},
   "outputs": [
    {
     "name": "stdout",
     "output_type": "stream",
     "text": [
      "[[   0    0]\n",
      " [  -4   -3]\n",
      " [-433 -413]\n",
      " [-451 -439]\n",
      " [-552 -532]]\n"
     ]
    }
   ],
   "source": [
    "test2 = load('donneespropres.txt')\n",
    "\n",
    "c = asarray(test2, dtype = np.int16)\n",
    "test = c[0:5]\n",
    "print(test)"
   ]
  },
  {
   "cell_type": "code",
   "execution_count": 2,
   "metadata": {},
   "outputs": [],
   "source": [
    "# fichier = open('tableautest.txt', 'w')\n",
    "# pour passer de tableau a string: str(tableau)\n",
    "# pour passer de string a tableau: list(str(tableau))\n",
    "# aux = []\n",
    "# aux = aux + tab\n",
    "# for i in range (0,(len(tab) + 1)):\n",
    "    # print(i)\n",
    "    # print([tab[i][0]])\n",
    "    # print(aux)\n",
    "    # aux = aux + [tab[i][0]]\n",
    "# fichier.write(str(aux))\n",
    "# fichier.close()"
   ]
  },
  {
   "cell_type": "code",
   "execution_count": 114,
   "metadata": {},
   "outputs": [
    {
     "name": "stdout",
     "output_type": "stream",
     "text": [
      "<class 'numpy.ndarray'>\n",
      "[array([[0., 0.]]), array([[-5., -4.]]), array([[-433., -413.]]), array([[-451., -439.]]), array([[-552., -532.]])]\n",
      "<class 'numpy.ndarray'>\n",
      "[[0.0, 0.0]]\n",
      "[[0.0, 0.0], [-4.999999999999983, -3.999999999999983], [-433.0000000000002, -413.0000000000002], [-451.0, -439.0], [-552.0, -532.0]]\n",
      "<class 'list'>\n",
      "[[0.0, 0.0], [-4.999999999999983, -3.999999999999983], [-433.0000000000002, -413.0000000000002], [-451.0, -439.0], [-552.0, -532.0]]\n",
      "<class 'str'>\n"
     ]
    }
   ],
   "source": [
    "print(type(tab[0]))\n",
    "print(tab[0:5])\n",
    "print(type(tab[0]))\n",
    "#print(tab[0].tolist())\n",
    "#a = tab[0].tolist()\n",
    "#b = tab[0:5].tolist()\n",
    "#print(a)\n",
    "#print(b)\n",
    "print(tab[0].tolist())\n",
    "\n",
    "tab1 = tab[0:5]\n",
    "tab2 = []\n",
    "for i in range (len(tab1)):\n",
    "    tab2 = tab2 + tab1[i].tolist()\n",
    "print(tab2)\n",
    "print(type(tab2[0]))\n",
    "tab3 = str(tab2)\n",
    "print(tab3)\n",
    "print(type(tab3))"
   ]
  },
  {
   "cell_type": "code",
   "execution_count": 1,
   "metadata": {},
   "outputs": [],
   "source": [
    "# c = asarray(tab, dtype = np.int16)\n",
    "#freq2 = freq / 10\n",
    "#print(len(c))\n",
    "#print(c[0])\n",
    "#print(c[0][0])\n",
    "#print(type(c[2][0]))\n",
    "#print(c[0:10])\n",
    "#print(type(c[0][0].tolist()))\n",
    "#print(len(c))\n",
    "# aux = len(c)\n",
    "\n",
    "# test = [[0]] * len(c)\n",
    "# for i in range (0,aux):\n",
    "    # print(i)\n",
    "    # print('test= ', test[i])\n",
    "    # print('c= ', c[i][0])\n",
    "    # test[i] = test[i] + c[i][0]\n",
    "# a = asarray(test, dtype = np.int16)\n",
    "# print(a)\n",
    "# fichier = open('tableautestdata.txt', 'w')\n",
    "# fichier.write(str(a))\n",
    "# fichier.close()"
   ]
  },
  {
   "cell_type": "code",
   "execution_count": 157,
   "metadata": {},
   "outputs": [
    {
     "name": "stdout",
     "output_type": "stream",
     "text": [
      "4410\n",
      "<class 'numpy.ndarray'>\n"
     ]
    }
   ],
   "source": [
    "freq2 = int(freq2)\n",
    "print(freq2)\n",
    "print(type(c))\n",
    "scipy.io.wavfile.write('reecrit2.wav', freq2, a)"
   ]
  },
  {
   "cell_type": "code",
   "execution_count": null,
   "metadata": {},
   "outputs": [],
   "source": []
  }
 ],
 "metadata": {
  "kernelspec": {
   "display_name": "Python 3",
   "language": "python",
   "name": "python3"
  },
  "language_info": {
   "codemirror_mode": {
    "name": "ipython",
    "version": 3
   },
   "file_extension": ".py",
   "mimetype": "text/x-python",
   "name": "python",
   "nbconvert_exporter": "python",
   "pygments_lexer": "ipython3",
   "version": "3.6.7"
  }
 },
 "nbformat": 4,
 "nbformat_minor": 2
}
