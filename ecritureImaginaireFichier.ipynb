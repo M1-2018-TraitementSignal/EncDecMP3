{
 "cells": [
  {
   "cell_type": "code",
   "execution_count": 1,
   "metadata": {},
   "outputs": [
    {
     "name": "stdout",
     "output_type": "stream",
     "text": [
      "Populating the interactive namespace from numpy and matplotlib\n"
     ]
    }
   ],
   "source": [
    "%pylab inline\n",
    "import scipy.io.wavfile"
   ]
  },
  {
   "cell_type": "code",
   "execution_count": null,
   "metadata": {},
   "outputs": [],
   "source": []
  },
  {
   "cell_type": "code",
   "execution_count": null,
   "metadata": {},
   "outputs": [],
   "source": []
  },
  {
   "cell_type": "code",
   "execution_count": 4,
   "metadata": {},
   "outputs": [
    {
     "name": "stdout",
     "output_type": "stream",
     "text": [
      "44100\n",
      "8833224\n"
     ]
    }
   ],
   "source": [
    "freq, data = scipy.io.wavfile.read('test.wav')\n",
    "print(freq)\n",
    "print(len(data))\n",
    "\n",
    "# tableau = data[]"
   ]
  },
  {
   "cell_type": "code",
   "execution_count": null,
   "metadata": {},
   "outputs": [],
   "source": []
  },
  {
   "cell_type": "code",
   "execution_count": 78,
   "metadata": {},
   "outputs": [
    {
     "name": "stdout",
     "output_type": "stream",
     "text": [
      "Debut parrallelisation ..................\n",
      "Debut fourier ..................\n",
      "Debut conversion ..................\n",
      "Fin ..................\n"
     ]
    }
   ],
   "source": [
    "# fichier = 'imaginaire.txt'\n",
    "# debutechantillon = 0\n",
    "\n",
    "\n",
    "# test2 = data[0:25]\n",
    "# print(test2)\n",
    "#step = int(len(data) / 8)\n",
    "#print(step)\n",
    "\n",
    "# finechantillon = debutechantillon + step\n",
    "# finechantillon = len(test2)\n",
    "# print(\"le debut du suivant sera: \", finechantillon)\n",
    "\n",
    "\n",
    "# tableau = data[debutechantillon:finechantillon]\n",
    "\n",
    "# print(len(tableau))\n",
    "\n",
    "\n",
    "\n",
    "\n",
    "\n",
    "# parrallelisation(fichier, debutechantillon, finechantillon, test2)"
   ]
  },
  {
   "cell_type": "code",
   "execution_count": 77,
   "metadata": {},
   "outputs": [
    {
     "name": "stdout",
     "output_type": "stream",
     "text": [
      "Debut parrallelisation ..................\n",
      "Debut fourier ..................\n",
      "Debut conversion ..................\n",
      "Fin ..................\n"
     ]
    }
   ],
   "source": [
    "# Ecriture dans le fichier imaginaire.txt de la fft de la musique\n",
    "\n",
    "\n",
    "\n",
    "def parrallelisation(nomfichier, debut, fin, data):\n",
    "    print(\"Debut parrallelisation ..................\")\n",
    "    tab = fourierparpartie(data, debut, fin, 10)\n",
    "    tab2 = conversionpropre(tab, 10)\n",
    "    tab2.dump(nomfichier)\n",
    "    print(\"Fin ..................\")\n",
    "\n",
    "\n",
    "def fourierparpartie(data, debut, fin, taillefenetre):\n",
    "    print(\"Debut fourier ..................\")\n",
    "    res = []\n",
    "    taille = fin - debut\n",
    "    reste = taille % taillefenetre\n",
    "    newtaille = int((taille - reste) / taillefenetre)\n",
    "    for k in range(0, newtaille):\n",
    "        liste = data[(taillefenetre * k):(taillefenetre * (k+1))]\n",
    "        tmp = numpy.fft.fft2(liste)\n",
    "        res = res + [tmp]\n",
    "    if reste > 0:\n",
    "        liste = data[(fin - reste): fin]\n",
    "        res = res + [numpy.fft.fft2(liste)]\n",
    "    return res\n",
    "\n",
    "\n",
    "def conversionpropre(tab, taillefenetre):\n",
    "    print(\"Debut conversion ..................\")\n",
    "    reste = len(tab[len(tab) - 1])\n",
    "    tab2 = []\n",
    "    for i in range(0, (len(tab) - 1)):\n",
    "        for j in range(0, taillefenetre):\n",
    "            tab2 = tab2 + [tab[i][j].tolist()]\n",
    "    if reste > 0:\n",
    "        j = len(tab) % taillefenetre - 1\n",
    "        for i in range(0,reste):\n",
    "            tab2 = tab2 + [tab[j][i].tolist()]\n",
    "    tab2 = asarray(tab2)\n",
    "    return tab2\n",
    "\n",
    "parrallelisation(fichier, debutechantillon, finechantillon, test2)"
   ]
  },
  {
   "cell_type": "code",
   "execution_count": 67,
   "metadata": {},
   "outputs": [
    {
     "name": "stdout",
     "output_type": "stream",
     "text": [
      "[[-2.00000000e+00+0.00000000e+00j  0.00000000e+00+0.00000000e+00j]\n",
      " [-5.00000000e-01+1.53884177e+00j -1.11803399e+00-3.63271264e-01j]\n",
      " [ 5.00000000e-01+3.63271264e-01j -1.11803399e+00+1.53884177e+00j]\n",
      " [-5.00000000e-01+3.63271264e-01j  1.11803399e+00+1.53884177e+00j]\n",
      " [ 5.00000000e-01+1.53884177e+00j  1.11803399e+00-3.63271264e-01j]\n",
      " [ 2.00000000e+00+5.55111512e-17j  1.11022302e-16-1.11022302e-16j]\n",
      " [ 5.00000000e-01-1.53884177e+00j  1.11803399e+00+3.63271264e-01j]\n",
      " [-5.00000000e-01-3.63271264e-01j  1.11803399e+00-1.53884177e+00j]\n",
      " [ 5.00000000e-01-3.63271264e-01j -1.11803399e+00-1.53884177e+00j]\n",
      " [-5.00000000e-01-1.53884177e+00j -1.11803399e+00+3.63271264e-01j]\n",
      " [-3.96100000e+03+0.00000000e+00j -6.90000000e+01+0.00000000e+00j]\n",
      " [ 7.71092682e+02-2.33109574e+03j -4.46149284e+00-4.95936961e+01j]\n",
      " [-1.97993336e+01-1.40587805e+02j  3.21418327e+01-2.48459823e+01j]\n",
      " [ 6.60407318e+02-4.58507243e+02j  2.79614928e+01+3.45935732e+01j]\n",
      " [ 2.65299334e+02-2.89294520e+02j -2.26418327e+01+8.30223851e+00j]\n",
      " [ 5.17000000e+02-5.68434189e-14j -7.00000000e+00-3.55271368e-15j]\n",
      " [ 2.65299334e+02+2.89294520e+02j -2.26418327e+01-8.30223851e+00j]\n",
      " [ 6.60407318e+02+4.58507243e+02j  2.79614928e+01-3.45935732e+01j]\n",
      " [-1.97993336e+01+1.40587805e+02j  3.21418327e+01+2.48459823e+01j]\n",
      " [ 7.71092682e+02+2.33109574e+03j -4.46149284e+00+4.95936961e+01j]\n",
      " [-3.79000000e+03+0.00000000e+00j -7.20000000e+01+0.00000000e+00j]\n",
      " [-2.51990317e+02+2.71238783e+01j -8.11803399e+00+1.41270905e+01j]\n",
      " [ 3.19903166e+01-5.02672381e+01j -5.88196601e+00+4.78803873e+00j]\n",
      " [ 3.19903166e+01+5.02672381e+01j -5.88196601e+00-4.78803873e+00j]\n",
      " [-2.51990317e+02-2.71238783e+01j -8.11803399e+00-1.41270905e+01j]]\n"
     ]
    }
   ],
   "source": [
    "c = load('imaginaire.txt')\n",
    "print(c)"
   ]
  },
  {
   "cell_type": "code",
   "execution_count": null,
   "metadata": {},
   "outputs": [
    {
     "name": "stdout",
     "output_type": "stream",
     "text": [
      "Debut parrallelisation ..................\n",
      "Debut fourier ..................\n",
      "Debut conversion ..................\n"
     ]
    }
   ],
   "source": [
    "fichier = 'imaginaireTest.txt'\n",
    "debutechantillon = 0\n",
    "\n",
    "\n",
    "test2 = data[0:100000]\n",
    "# print(test2)\n",
    "#step = int(len(data) / 8)\n",
    "#print(step)\n",
    "\n",
    "# finechantillon = debutechantillon + step\n",
    "finechantillon = len(test2)\n",
    "# print(\"le debut du suivant sera: \", finechantillon)\n",
    "\n",
    "\n",
    "# tableau = data[debutechantillon:finechantillon]\n",
    "\n",
    "# print(len(tableau))\n",
    "\n",
    "\n",
    "\n",
    "\n",
    "\n",
    "parrallelisation(fichier, debutechantillon, finechantillon, test2)"
   ]
  },
  {
   "cell_type": "code",
   "execution_count": null,
   "metadata": {},
   "outputs": [],
   "source": []
  }
 ],
 "metadata": {
  "kernelspec": {
   "display_name": "Python 3",
   "language": "python",
   "name": "python3"
  },
  "language_info": {
   "codemirror_mode": {
    "name": "ipython",
    "version": 3
   },
   "file_extension": ".py",
   "mimetype": "text/x-python",
   "name": "python",
   "nbconvert_exporter": "python",
   "pygments_lexer": "ipython3",
   "version": "3.6.7"
  }
 },
 "nbformat": 4,
 "nbformat_minor": 2
}
