{
 "cells": [
  {
   "cell_type": "code",
   "execution_count": 6,
   "metadata": {},
   "outputs": [],
   "source": [
    "file = open('baseentete.mp3', 'rb')\n",
    "contenu = file.readline()\n",
    "file.close()"
   ]
  },
  {
   "cell_type": "code",
   "execution_count": 7,
   "metadata": {},
   "outputs": [
    {
     "name": "stdout",
     "output_type": "stream",
     "text": [
      "b'ID3\\x04\\x00\\x00\\x00\\x06wgTXXX\\x00\\x00\\x002\\x00\\x00\\x03purl\\x00https://www.youtube.com/watch?v=L5fyh0AiGJQ\\x00TXXX\\x00\\x00\\x002\\x00\\x00\\x03comment\\x00Musique officielle de mario en image :).\\x00TXXX\\x00\\x00\\x006\\x00\\x00\\x03description\\x00Musique officielle de mario en image :).\\x00TPE1\\x00\\x00\\x00\\x0c\\x00\\x00\\x03H3R0iKGiRL\\x00TIT2\\x00\\x00\\x00!\\x00\\x00\\x03Musique mario bros (officielle)\\x00TDRC\\x00\\x00\\x00\\n'\n"
     ]
    }
   ],
   "source": [
    "print(contenu)"
   ]
  },
  {
   "cell_type": "code",
   "execution_count": 10,
   "metadata": {},
   "outputs": [],
   "source": [
    "file = open('creation.mp3', 'wb')\n",
    "\n",
    "# ID3: Meta data Si il y a la mension ID3 alors c'est un ID3 v2 (pus complet que le v1)\n",
    "# 04 00: version du tag\n",
    "file.write(b'ID3\\x04\\x00')\n",
    "\n",
    "file.close()"
   ]
  },
  {
   "cell_type": "code",
   "execution_count": 11,
   "metadata": {},
   "outputs": [
    {
     "name": "stdout",
     "output_type": "stream",
     "text": [
      "b'ID3\\x04\\x00'\n"
     ]
    }
   ],
   "source": [
    "file = open('creation.mp3', 'rb')\n",
    "contenu = file.readline()\n",
    "file.close()\n",
    "print(contenu)"
   ]
  },
  {
   "cell_type": "code",
   "execution_count": null,
   "metadata": {},
   "outputs": [],
   "source": []
  }
 ],
 "metadata": {
  "kernelspec": {
   "display_name": "Python 3",
   "language": "python",
   "name": "python3"
  },
  "language_info": {
   "codemirror_mode": {
    "name": "ipython",
    "version": 3
   },
   "file_extension": ".py",
   "mimetype": "text/x-python",
   "name": "python",
   "nbconvert_exporter": "python",
   "pygments_lexer": "ipython3",
   "version": "3.6.7"
  }
 },
 "nbformat": 4,
 "nbformat_minor": 2
}
