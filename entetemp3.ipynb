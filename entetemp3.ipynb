{
 "cells": [
  {
   "cell_type": "code",
   "execution_count": 9,
   "metadata": {},
   "outputs": [
    {
     "name": "stdout",
     "output_type": "stream",
     "text": [
      "Populating the interactive namespace from numpy and matplotlib\n"
     ]
    }
   ],
   "source": [
    "%pylab inline\n",
    "import scipy\n",
    "import scipy.io.wavfile"
   ]
  },
  {
   "cell_type": "code",
   "execution_count": null,
   "metadata": {},
   "outputs": [],
   "source": [
    "file = open('baseentete.mp3', 'rb')\n",
    "contenu = file.readline()\n",
    "file.close()"
   ]
  },
  {
   "cell_type": "code",
   "execution_count": 4,
   "metadata": {},
   "outputs": [
    {
     "name": "stdout",
     "output_type": "stream",
     "text": [
      "b'ID3\\x04\\x00\\x00\\x00\\x06wgTXXX\\x00\\x00\\x002\\x00\\x00\\x03purl\\x00https://www.youtube.com/watch?v=L5fyh0AiGJQ\\x00TXXX\\x00\\x00\\x002\\x00\\x00\\x03comment\\x00Musique officielle de mario en image :).\\x00TXXX\\x00\\x00\\x006\\x00\\x00\\x03description\\x00Musique officielle de mario en image :).\\x00TPE1\\x00\\x00\\x00\\x0c\\x00\\x00\\x03H3R0iKGiRL\\x00TIT2\\x00\\x00\\x00!\\x00\\x00\\x03Musique mario bros (officielle)\\x00TDRC\\x00\\x00\\x00\\n'\n"
     ]
    }
   ],
   "source": [
    "print(contenu)"
   ]
  },
  {
   "cell_type": "code",
   "execution_count": 19,
   "metadata": {},
   "outputs": [],
   "source": [
    "file = open('creationmetadata.mp3', 'wb')\n",
    "\n",
    "# ID3: Meta data Si il y a la mension ID3 alors c'est un ID3 v2 (pus complet que le v1)\n",
    "# 04 00: version du tag\n",
    "file.write(b'ID3\\x04\\x00')\n",
    "\n",
    "file.close()"
   ]
  },
  {
   "cell_type": "code",
   "execution_count": 20,
   "metadata": {},
   "outputs": [
    {
     "name": "stdout",
     "output_type": "stream",
     "text": [
      "b'ID3\\x04\\x00'\n"
     ]
    }
   ],
   "source": [
    "file = open('creationmetadata.mp3', 'rb')\n",
    "contenu = file.readline()\n",
    "file.close()\n",
    "print(contenu)"
   ]
  },
  {
   "cell_type": "code",
   "execution_count": 46,
   "metadata": {},
   "outputs": [
    {
     "name": "stdout",
     "output_type": "stream",
     "text": [
      "1011\n",
      "0b1\n"
     ]
    },
    {
     "ename": "ValueError",
     "evalue": "invalid literal for int() with base 10: '0b111'",
     "output_type": "error",
     "traceback": [
      "\u001b[0;31m---------------------------------------------------------------------------\u001b[0m",
      "\u001b[0;31mValueError\u001b[0m                                Traceback (most recent call last)",
      "\u001b[0;32m<ipython-input-46-5237eb0dd363>\u001b[0m in \u001b[0;36m<module>\u001b[0;34m()\u001b[0m\n\u001b[1;32m     14\u001b[0m \u001b[0mprint\u001b[0m\u001b[0;34m(\u001b[0m\u001b[0mint\u001b[0m\u001b[0;34m(\u001b[0m\u001b[0mchaine\u001b[0m\u001b[0;34m)\u001b[0m\u001b[0;34m)\u001b[0m\u001b[0;34m\u001b[0m\u001b[0m\n\u001b[1;32m     15\u001b[0m \u001b[0mprint\u001b[0m\u001b[0;34m(\u001b[0m\u001b[0mbin\u001b[0m\u001b[0;34m(\u001b[0m\u001b[0;36m1\u001b[0m\u001b[0;34m)\u001b[0m\u001b[0;34m)\u001b[0m\u001b[0;34m\u001b[0m\u001b[0m\n\u001b[0;32m---> 16\u001b[0;31m \u001b[0mprint\u001b[0m\u001b[0;34m(\u001b[0m\u001b[0mint\u001b[0m\u001b[0;34m(\u001b[0m\u001b[0;34m'0b111'\u001b[0m\u001b[0;34m)\u001b[0m\u001b[0;34m)\u001b[0m\u001b[0;34m\u001b[0m\u001b[0m\n\u001b[0m\u001b[1;32m     17\u001b[0m \u001b[0mprint\u001b[0m\u001b[0;34m(\u001b[0m\u001b[0mhex\u001b[0m\u001b[0;34m(\u001b[0m\u001b[0mint\u001b[0m\u001b[0;34m(\u001b[0m\u001b[0mchaine\u001b[0m\u001b[0;34m)\u001b[0m\u001b[0;34m)\u001b[0m\u001b[0;34m)\u001b[0m\u001b[0;34m\u001b[0m\u001b[0m\n\u001b[1;32m     18\u001b[0m \u001b[0mprint\u001b[0m\u001b[0;34m(\u001b[0m\u001b[0mchaine\u001b[0m\u001b[0;34m)\u001b[0m\u001b[0;34m\u001b[0m\u001b[0m\n",
      "\u001b[0;31mValueError\u001b[0m: invalid literal for int() with base 10: '0b111'"
     ]
    }
   ],
   "source": [
    "file = open('creationentete.txt', 'wb')\n",
    "# signaler le debut de l'entete\n",
    "file.write(b'FFF')\n",
    "# version: 1 = MPEG\n",
    "v = 1\n",
    "# layer: 01 = layer MP3\n",
    "e1 = 0\n",
    "e2 = 1\n",
    "# error protection\n",
    "er = 1\n",
    "chaine = str(v) + str(e1) + str(e2) + str(er)\n",
    "#a = hex(chaine.encode('UTF-8'))\n",
    "#print(a)\n",
    "print(int(chaine))\n",
    "print(bin(1))\n",
    "print(int('0b111'))\n",
    "print(hex(int(chaine)))\n",
    "print(chaine)\n",
    "file.write(chaine.encode('UTF-8'))\n",
    "file.close()"
   ]
  },
  {
   "cell_type": "code",
   "execution_count": 39,
   "metadata": {},
   "outputs": [
    {
     "name": "stdout",
     "output_type": "stream",
     "text": [
      "b'FFF1011'\n"
     ]
    }
   ],
   "source": [
    "file = open('creationentete.txt', 'rb')\n",
    "contenu = file.readline()\n",
    "file.close()\n",
    "print(contenu)"
   ]
  },
  {
   "cell_type": "code",
   "execution_count": 16,
   "metadata": {},
   "outputs": [
    {
     "name": "stdout",
     "output_type": "stream",
     "text": [
      "[2000 2000 2000 ... 2000 2000 2000]\n"
     ]
    }
   ],
   "source": [
    "data = [2000] * (44100*5)\n",
    "data = asarray(data)\n",
    "print(data)"
   ]
  },
  {
   "cell_type": "code",
   "execution_count": 17,
   "metadata": {},
   "outputs": [],
   "source": [
    "c = asarray(data, dtype = np.int16)"
   ]
  },
  {
   "cell_type": "code",
   "execution_count": 18,
   "metadata": {},
   "outputs": [],
   "source": [
    "scipy.io.wavfile.write('freq.wav', 44100, c)"
   ]
  },
  {
   "cell_type": "code",
   "execution_count": null,
   "metadata": {},
   "outputs": [],
   "source": []
  }
 ],
 "metadata": {
  "kernelspec": {
   "display_name": "Python 3",
   "language": "python",
   "name": "python3"
  },
  "language_info": {
   "codemirror_mode": {
    "name": "ipython",
    "version": 3
   },
   "file_extension": ".py",
   "mimetype": "text/x-python",
   "name": "python",
   "nbconvert_exporter": "python",
   "pygments_lexer": "ipython3",
   "version": "3.6.5"
  }
 },
 "nbformat": 4,
 "nbformat_minor": 2
}
