{
 "cells": [
  {
   "cell_type": "code",
   "execution_count": 6,
   "metadata": {},
   "outputs": [
    {
     "name": "stdout",
     "output_type": "stream",
     "text": [
      "Populating the interactive namespace from numpy and matplotlib\n"
     ]
    }
   ],
   "source": [
    "%pylab inline\n",
    "import scipy\n",
    "import scipy.io.wavfile"
   ]
  },
  {
   "cell_type": "code",
   "execution_count": 2,
   "metadata": {},
   "outputs": [],
   "source": [
    "def autre(tab, fichier):\n",
    "    tab1 = tab[0:5]\n",
    "    tab2 = [[0]] * len(tab1)\n",
    "    for i in range(len(tab1)):\n",
    "        tab2[i] = tab1[i][0].tolist()\n",
    "    fichier.write(str(tab2))\n",
    "    return tab2     "
   ]
  },
  {
   "cell_type": "code",
   "execution_count": 3,
   "metadata": {},
   "outputs": [
    {
     "name": "stdout",
     "output_type": "stream",
     "text": [
      "[array([[0., 0.]]), array([[-5., -4.]]), array([[-433., -413.]]), array([[-451., -439.]]), array([[-552., -532.]])]\n"
     ]
    }
   ],
   "source": [
    "fichier = open('testautre.txt', 'w')\n",
    "tab = [array([[0., 0.]]), array([[-5., -4.]]), array([[-433., -413.]]), array([[-451., -439.]]), array([[-552., -532.]])]\n",
    "print(tab)\n",
    "a = autre(tab, fichier)\n",
    "fichier.close()"
   ]
  },
  {
   "cell_type": "code",
   "execution_count": 5,
   "metadata": {},
   "outputs": [
    {
     "name": "stdout",
     "output_type": "stream",
     "text": [
      "[[0.0, 0.0], [-5.0, -4.0], [-433.0, -413.0], [-451.0, -439.0], [-552.0, -532.0]]\n"
     ]
    }
   ],
   "source": [
    "print(a)"
   ]
  },
  {
   "cell_type": "code",
   "execution_count": 6,
   "metadata": {},
   "outputs": [
    {
     "name": "stdout",
     "output_type": "stream",
     "text": [
      "[[   0.    0.]\n",
      " [  -5.   -4.]\n",
      " [-433. -413.]\n",
      " [-451. -439.]\n",
      " [-552. -532.]]\n"
     ]
    }
   ],
   "source": [
    "print(asarray(a))"
   ]
  },
  {
   "cell_type": "code",
   "execution_count": 7,
   "metadata": {},
   "outputs": [
    {
     "name": "stdout",
     "output_type": "stream",
     "text": [
      "<class 'str'>\n"
     ]
    }
   ],
   "source": [
    "fichierarray = open('tableau.txt', 'r')\n",
    "t = fichierarray.read()\n",
    "print(type(t))\n",
    "fichierarray.close()"
   ]
  },
  {
   "cell_type": "code",
   "execution_count": 35,
   "metadata": {},
   "outputs": [
    {
     "name": "stdout",
     "output_type": "stream",
     "text": [
      "<class 'str'>\n",
      "['[', '[', ' ', ' ', '0', ' ', ' ', ' ', '0', ']', '\\n', ' ', '[', ' ', '-', '5', ' ', ' ', '-', '4', ']', '\\n', ' ', '[', ' ', '7', '9', ' ', ' ', '9', '9', ']', '\\n', ' ', '[', ' ', '6', '1', ' ', ' ', '7', '3', ']', '\\n', ' ', '[', '-', '4', '0', ' ', '-', '2', '0', ']', ']']\n"
     ]
    }
   ],
   "source": [
    "def autre2(tab):\n",
    "    tab1 = tab[0:5]\n",
    "    tab2 = [[0]] * len(tab1)\n",
    "    for i in range(len(tab1)):\n",
    "        tab2[i] = tab1[i][0].tolist()\n",
    "    return tab2\n",
    "\n",
    "a = autre2(test)\n",
    "b = asarray(a)\n",
    "# print(b)\n",
    "\n",
    "fichier = open('fichieraux.txt', 'w')\n",
    "contenu = fichier.write(str(b))\n",
    "fichier.close()\n",
    "\n",
    "fichier = open('fichieraux.txt', 'r')\n",
    "contenu = fichier.read()\n",
    "fichier.close()\n",
    "print(type(contenu))\n",
    "print(list(contenu))"
   ]
  },
  {
   "cell_type": "code",
   "execution_count": 65,
   "metadata": {},
   "outputs": [
    {
     "name": "stdout",
     "output_type": "stream",
     "text": [
      "[array([[0., 0.]]), array([[-5., -4.]]), array([[-433., -413.]]), array([[-451., -439.]]), array([[-552., -532.]])]\n",
      "<class 'list'>\n",
      "\n",
      "[[[   0.    0.]]\n",
      "\n",
      " [[  -5.   -4.]]\n",
      "\n",
      " [[-433. -413.]]\n",
      "\n",
      " [[-451. -439.]]\n",
      "\n",
      " [[-552. -532.]]]\n",
      "<class 'numpy.ndarray'>\n",
      "[[0. 0.]]\n"
     ]
    }
   ],
   "source": [
    "# IIIIIIIIIIIIIIIIIIIIIIICCCCCCCCCCCCCCCCCCCCCCIIIIIIIIIIIIIIIIIIIIIIIIIIIIIIIIIIIIIIIIIIIII\n",
    "\n",
    "\n",
    "test = [array([[0., 0.]]), array([[-5., -4.]]), array([[-433., -413.]]), array([[-451., -439.]]), \n",
    "             array([[-552., -532.]])]\n",
    "print(test)\n",
    "print(type(test))\n",
    "test2 = asarray(test)\n",
    "print()\n",
    "test2.dump('toto.txt')\n",
    "\n",
    "a = load('toto.txt')\n",
    "print(a)\n",
    "print(type(a))\n",
    "print(a[0])"
   ]
  },
  {
   "cell_type": "code",
   "execution_count": 29,
   "metadata": {},
   "outputs": [],
   "source": [
    "c = asarray(sparse_test)"
   ]
  },
  {
   "cell_type": "code",
   "execution_count": 31,
   "metadata": {},
   "outputs": [
    {
     "name": "stdout",
     "output_type": "stream",
     "text": [
      "  (1, 0)\t-5\n",
      "  (2, 0)\t79\n",
      "  (3, 0)\t61\n",
      "  (4, 0)\t-40\n",
      "  (1, 1)\t-4\n",
      "  (2, 1)\t99\n",
      "  (3, 1)\t73\n",
      "  (4, 1)\t-20\n"
     ]
    }
   ],
   "source": [
    "print(c)"
   ]
  },
  {
   "cell_type": "code",
   "execution_count": 55,
   "metadata": {},
   "outputs": [
    {
     "name": "stdout",
     "output_type": "stream",
     "text": [
      "<class 'str'>\n",
      "[array([[0., 0.]]), array([[-5., -4.]]), array([[-433., -413.]]), array([[-451., -439.]]), array([[-552., -532.]])]\n",
      "\n",
      "<class 'numpy.ndarray'>\n",
      "1\n"
     ]
    }
   ],
   "source": [
    "fichier = open('tableautest.txt', 'r')\n",
    "contenu = fichier.read()\n",
    "fichier.close()\n",
    "print(type(contenu))\n",
    "a = asanyarray(contenu)\n",
    "print(a)\n",
    "print(type(a))\n",
    "print(size(a))\n",
    "# a = ndarray.dump(asarray(contenu))"
   ]
  },
  {
   "cell_type": "code",
   "execution_count": 67,
   "metadata": {},
   "outputs": [
    {
     "name": "stdout",
     "output_type": "stream",
     "text": [
      "[array([[0., 0.]]), array([[-5., -4.]]), array([[-433., -413.]]), array([[-451., -439.]]), array([[-552., -532.]])]\n",
      "<class 'list'>\n",
      "aaaaa  [[0.0, 0.0], [-5.0, -4.0], [-433.0, -413.0], [-451.0, -439.0], [-552.0, -532.0]]\n",
      "[[   0.    0.]\n",
      " [  -5.   -4.]\n",
      " [-433. -413.]\n",
      " [-451. -439.]\n",
      " [-552. -532.]]\n",
      "\n",
      "[[[   0.    0.]]\n",
      "\n",
      " [[  -5.   -4.]]\n",
      "\n",
      " [[-433. -413.]]\n",
      "\n",
      " [[-451. -439.]]\n",
      "\n",
      " [[-552. -532.]]]\n",
      "<class 'numpy.ndarray'>\n",
      "[[0. 0.]]\n"
     ]
    }
   ],
   "source": [
    "# IIIIIIIIIIIIIIIIIIIIIIICCCCCCCCCCCCCCCCCCCCCCIIIIIIIIIIIIIIIIIIIIIIIIIIIIIIIIIIIIIIIIIIIII\n",
    "\n",
    "\n",
    "test = [array([[0., 0.]]), array([[-5., -4.]]), array([[-433., -413.]]), array([[-451., -439.]]), \n",
    "             array([[-552., -532.]])]\n",
    "print(test)\n",
    "print(type(test))\n",
    "test2 = autre2(test)\n",
    "print(\"aaaaa \", test2)\n",
    "ab = asarray(test2)\n",
    "print(ab)\n",
    "\n",
    "test2 = asarray(test)\n",
    "print()\n",
    "test2.dump('toto.txt')\n",
    "\n",
    "a = load('toto.txt')\n",
    "print(a)\n",
    "print(type(a))\n",
    "print(a[0])"
   ]
  },
  {
   "cell_type": "code",
   "execution_count": null,
   "metadata": {},
   "outputs": [],
   "source": []
  },
  {
   "cell_type": "code",
   "execution_count": null,
   "metadata": {},
   "outputs": [],
   "source": []
  },
  {
   "cell_type": "code",
   "execution_count": null,
   "metadata": {},
   "outputs": [],
   "source": []
  },
  {
   "cell_type": "code",
   "execution_count": 16,
   "metadata": {},
   "outputs": [
    {
     "name": "stdout",
     "output_type": "stream",
     "text": [
      "[[ 0 -1]\n",
      " [ 0  0]]\n",
      "44100\n"
     ]
    }
   ],
   "source": [
    "def liremusique(file):\n",
    "    freq, data = scipy.io.wavfile.read(file)\n",
    "    return freq,data\n",
    "\n",
    "freq, data = liremusique('test.wav')\n",
    "print(data[3:5])\n",
    "print(freq)\n"
   ]
  },
  {
   "cell_type": "code",
   "execution_count": 47,
   "metadata": {},
   "outputs": [
    {
     "name": "stdout",
     "output_type": "stream",
     "text": [
      "1323000\n",
      "1323000\n",
      "1323000\n",
      "2646000\n"
     ]
    }
   ],
   "source": [
    "debutechantillon = freq * 30\n",
    "finechantillon = freq * 60\n",
    "\n",
    "tableau = data[debutechantillon:finechantillon]\n",
    "\n",
    "print(finechantillon - debutechantillon)\n",
    "print(len(tableau))\n",
    "\n",
    "c = asarray(tableau, dtype = np.int16)\n",
    "\n",
    "\n",
    "scipy.io.wavfile.write('unbout.wav', freq, c)\n",
    "\n",
    "\n",
    "print(debutechantillon)\n",
    "print(finechantillon)"
   ]
  },
  {
   "cell_type": "code",
   "execution_count": 58,
   "metadata": {},
   "outputs": [
    {
     "name": "stdout",
     "output_type": "stream",
     "text": [
      "132300\n"
     ]
    }
   ],
   "source": [
    "tab = []\n",
    "def fourierpartie(data, debut, fin, taillefenetre):\n",
    "    res = []\n",
    "    reste = len(data) % taillefenetre\n",
    "    newtaille = int((len(data) - reste) / taillefenetre)\n",
    "    for k in range(0, newtaille):\n",
    "        liste = data[taillefenetre * k:taillefenetre*(k+1)]\n",
    "        tmp = fft.fft2(liste)\n",
    "        res = res + [tmp]\n",
    "    return reste, res\n",
    "    \n",
    "def fourierinverse(data):\n",
    "    tab = fft.ifft2(data)\n",
    "    tab2 = data\n",
    "    return tab2\n",
    "\n",
    "reste, tab = fourierpartie(tableau, debutechantillon, finechantillon, 10)\n",
    "# print(tab)\n",
    "print(len(tab))\n",
    "#tab2 = fourierinverse(tab)\n",
    "#print(tab2)\n",
    "#print(len(tab2))"
   ]
  },
  {
   "cell_type": "code",
   "execution_count": 65,
   "metadata": {},
   "outputs": [
    {
     "name": "stdout",
     "output_type": "stream",
     "text": [
      "<class 'list'>\n"
     ]
    }
   ],
   "source": [
    "print(type(tab))\n",
    "# inter = restructuration(tab)\n",
    "donnees = asarray(tab)\n",
    "\n",
    "donnees.dump('imag30sec.txt')"
   ]
  },
  {
   "cell_type": "code",
   "execution_count": 61,
   "metadata": {},
   "outputs": [
    {
     "name": "stdout",
     "output_type": "stream",
     "text": [
      "132300\n"
     ]
    }
   ],
   "source": [
    "print(len(tab))"
   ]
  },
  {
   "cell_type": "code",
   "execution_count": 44,
   "metadata": {},
   "outputs": [
    {
     "name": "stdout",
     "output_type": "stream",
     "text": [
      "9\n",
      "1\n",
      "2\n",
      "[1, 2, 3, 4, 5, 6, 7, 8, 9]\n",
      "9\n"
     ]
    }
   ],
   "source": [
    "# tab = [1,2,3,4,5,6,7,8,9]\n",
    "\n",
    "# def fourierpartie(data, debut, fin, taillefenetre):\n",
    "    res = []\n",
    "    reste = len(data) % taillefenetre\n",
    "    print(len(data))\n",
    "    print(reste)\n",
    "    newtaille = int((len(data) - reste) / taillefenetre)\n",
    "    print(newtaille)\n",
    "    #for k in range(0, newtaille):\n",
    "       # liste = data[taillefenetre * k:taillefenetre*(k+1)]\n",
    "        #print(len(liste))\n",
    "    #return reste, tab\n",
    "    \n",
    "#rest, tab = fourierpartie(tableau, debutechantillon, finechantillon, 10)\n",
    "# fourierpartie(tab, 0, len(tab), 4)\n",
    "print(tab)\n",
    "print(len(tab))"
   ]
  },
  {
   "cell_type": "code",
   "execution_count": 32,
   "metadata": {},
   "outputs": [
    {
     "name": "stderr",
     "output_type": "stream",
     "text": [
      "/usr/local/lib/python3.6/dist-packages/numpy/core/numeric.py:501: ComplexWarning: Casting complex values to real discards the imaginary part\n",
      "  return array(a, dtype, copy=False, order=order)\n"
     ]
    }
   ],
   "source": [
    "c = asarray(tab2, dtype = np.int16)\n",
    "\n",
    "\n",
    "scipy.io.wavfile.write('unboutreecrit.wav', freq, c)"
   ]
  },
  {
   "cell_type": "code",
   "execution_count": null,
   "metadata": {},
   "outputs": [],
   "source": []
  }
 ],
 "metadata": {
  "kernelspec": {
   "display_name": "Python 3",
   "language": "python",
   "name": "python3"
  },
  "language_info": {
   "codemirror_mode": {
    "name": "ipython",
    "version": 3
   },
   "file_extension": ".py",
   "mimetype": "text/x-python",
   "name": "python",
   "nbconvert_exporter": "python",
   "pygments_lexer": "ipython3",
   "version": "3.6.7"
  }
 },
 "nbformat": 4,
 "nbformat_minor": 2
}
