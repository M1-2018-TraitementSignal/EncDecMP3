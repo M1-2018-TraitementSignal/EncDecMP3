{
 "cells": [
  {
   "cell_type": "code",
   "execution_count": 9,
   "metadata": {},
   "outputs": [
    {
     "name": "stdout",
     "output_type": "stream",
     "text": [
      "Populating the interactive namespace from numpy and matplotlib\n"
     ]
    }
   ],
   "source": [
    "%pylab inline\n",
    "import scipy\n",
    "import scipy.io.wavfile"
   ]
  },
  {
   "cell_type": "code",
   "execution_count": 10,
   "metadata": {},
   "outputs": [],
   "source": [
    "def autre(tab, fichier):\n",
    "    tab1 = tab[0:5]\n",
    "    tab2 = [[0]] * len(tab1)\n",
    "    for i in range(len(tab1)):\n",
    "        tab2[i] = tab1[i][0].tolist()\n",
    "    fichier.write(str(tab2))\n",
    "    return tab2     "
   ]
  },
  {
   "cell_type": "code",
   "execution_count": 11,
   "metadata": {},
   "outputs": [
    {
     "name": "stdout",
     "output_type": "stream",
     "text": [
      "[array([[0., 0.]]), array([[-5., -4.]]), array([[-433., -413.]]), array([[-451., -439.]]), array([[-552., -532.]])]\n"
     ]
    }
   ],
   "source": [
    "fichier = open('testautre.txt', 'w')\n",
    "tab = [array([[0., 0.]]), array([[-5., -4.]]), array([[-433., -413.]]), array([[-451., -439.]]), array([[-552., -532.]])]\n",
    "print(tab)\n",
    "a = autre(tab, fichier)\n",
    "fichier.close()"
   ]
  },
  {
   "cell_type": "code",
   "execution_count": 12,
   "metadata": {},
   "outputs": [
    {
     "name": "stdout",
     "output_type": "stream",
     "text": [
      "[[0.0, 0.0], [-5.0, -4.0], [-433.0, -413.0], [-451.0, -439.0], [-552.0, -532.0]]\n"
     ]
    }
   ],
   "source": [
    "print(a)"
   ]
  },
  {
   "cell_type": "code",
   "execution_count": 13,
   "metadata": {},
   "outputs": [
    {
     "name": "stdout",
     "output_type": "stream",
     "text": [
      "[[   0.    0.]\n",
      " [  -5.   -4.]\n",
      " [-433. -413.]\n",
      " [-451. -439.]\n",
      " [-552. -532.]]\n"
     ]
    }
   ],
   "source": [
    "print(asarray(a))"
   ]
  },
  {
   "cell_type": "code",
   "execution_count": 14,
   "metadata": {},
   "outputs": [
    {
     "name": "stdout",
     "output_type": "stream",
     "text": [
      "<class 'str'>\n"
     ]
    }
   ],
   "source": [
    "fichierarray = open('tableau.txt', 'r')\n",
    "t = fichierarray.read()\n",
    "print(type(t))\n",
    "fichierarray.close()"
   ]
  },
  {
   "cell_type": "code",
   "execution_count": 18,
   "metadata": {},
   "outputs": [
    {
     "name": "stdout",
     "output_type": "stream",
     "text": [
      "<class 'str'>\n",
      "[]\n"
     ]
    }
   ],
   "source": [
    "def autre2(tab):\n",
    "    print(tab)\n",
    "    tab1 = tab[0:5]\n",
    "    tab2 = [[0]] * len(tab1)\n",
    "    for i in range(len(tab1)):\n",
    "        tab2[i] = tab1[i][0].tolist()\n",
    "    return tab2\n",
    "\n",
    "#a = autre2(test)\n",
    "#b = asarray(a)\n",
    "# print(b)\n",
    "\n",
    "#fichier = open('fichieraux.txt', 'w')\n",
    "#contenu = fichier.write(str(b))\n",
    "#fichier.close()\n",
    "\n",
    "fichier = open('fichieraux.txt', 'r')\n",
    "contenu = fichier.read()\n",
    "fichier.close()\n",
    "print(type(contenu))\n",
    "print(list(contenu))"
   ]
  },
  {
   "cell_type": "code",
   "execution_count": 19,
   "metadata": {},
   "outputs": [
    {
     "name": "stdout",
     "output_type": "stream",
     "text": [
      "[array([[0., 0.]]), array([[-5., -4.]]), array([[-433., -413.]]), array([[-451., -439.]]), array([[-552., -532.]])]\n",
      "<class 'list'>\n",
      "\n",
      "[[[   0.    0.]]\n",
      "\n",
      " [[  -5.   -4.]]\n",
      "\n",
      " [[-433. -413.]]\n",
      "\n",
      " [[-451. -439.]]\n",
      "\n",
      " [[-552. -532.]]]\n",
      "<class 'numpy.ndarray'>\n",
      "[[0. 0.]]\n"
     ]
    }
   ],
   "source": [
    "# IIIIIIIIIIIIIIIIIIIIIIICCCCCCCCCCCCCCCCCCCCCCIIIIIIIIIIIIIIIIIIIIIIIIIIIIIIIIIIIIIIIIIIIII\n",
    "\n",
    "\n",
    "test = [array([[0., 0.]]), array([[-5., -4.]]), array([[-433., -413.]]), array([[-451., -439.]]), \n",
    "             array([[-552., -532.]])]\n",
    "print(test)\n",
    "print(type(test))\n",
    "test2 = asarray(test)\n",
    "print()\n",
    "test2.dump('toto.txt')\n",
    "\n",
    "a = load('toto.txt')\n",
    "print(a)\n",
    "print(type(a))\n",
    "print(a[0])"
   ]
  },
  {
   "cell_type": "code",
   "execution_count": 21,
   "metadata": {},
   "outputs": [],
   "source": [
    "#c = asarray(sparse_test)"
   ]
  },
  {
   "cell_type": "code",
   "execution_count": 23,
   "metadata": {},
   "outputs": [],
   "source": [
    "#print(c)"
   ]
  },
  {
   "cell_type": "code",
   "execution_count": 25,
   "metadata": {},
   "outputs": [],
   "source": [
    "#fichier = open('tableautest.txt', 'r')\n",
    "#contenu = fichier.read()\n",
    "#fichier.close()\n",
    "#print(type(contenu))\n",
    "#a = asanyarray(contenu)\n",
    "#print(a)\n",
    "#print(type(a))\n",
    "#print(size(a))\n",
    "# a = ndarray.dump(asarray(contenu))"
   ]
  },
  {
   "cell_type": "code",
   "execution_count": 26,
   "metadata": {},
   "outputs": [
    {
     "name": "stdout",
     "output_type": "stream",
     "text": [
      "[array([[0., 0.]]), array([[-5., -4.]]), array([[-433., -413.]]), array([[-451., -439.]]), array([[-552., -532.]])]\n",
      "<class 'list'>\n",
      "[array([[0., 0.]]), array([[-5., -4.]]), array([[-433., -413.]]), array([[-451., -439.]]), array([[-552., -532.]])]\n",
      "aaaaa  [[0.0, 0.0], [-5.0, -4.0], [-433.0, -413.0], [-451.0, -439.0], [-552.0, -532.0]]\n",
      "[[   0.    0.]\n",
      " [  -5.   -4.]\n",
      " [-433. -413.]\n",
      " [-451. -439.]\n",
      " [-552. -532.]]\n",
      "\n",
      "[[[   0.    0.]]\n",
      "\n",
      " [[  -5.   -4.]]\n",
      "\n",
      " [[-433. -413.]]\n",
      "\n",
      " [[-451. -439.]]\n",
      "\n",
      " [[-552. -532.]]]\n",
      "<class 'numpy.ndarray'>\n",
      "[[0. 0.]]\n"
     ]
    }
   ],
   "source": [
    "# IIIIIIIIIIIIIIIIIIIIIIICCCCCCCCCCCCCCCCCCCCCCIIIIIIIIIIIIIIIIIIIIIIIIIIIIIIIIIIIIIIIIIIIII\n",
    "\n",
    "\n",
    "test = [array([[0., 0.]]), array([[-5., -4.]]), array([[-433., -413.]]), array([[-451., -439.]]), \n",
    "             array([[-552., -532.]])]\n",
    "print(test)\n",
    "print(type(test))\n",
    "test2 = autre2(test)\n",
    "print(\"aaaaa \", test2)\n",
    "ab = asarray(test2)\n",
    "print(ab)\n",
    "\n",
    "test2 = asarray(test)\n",
    "print()\n",
    "test2.dump('toto.txt')\n",
    "\n",
    "a = load('toto.txt')\n",
    "print(a)\n",
    "print(type(a))\n",
    "print(a[0])"
   ]
  },
  {
   "cell_type": "code",
   "execution_count": null,
   "metadata": {},
   "outputs": [],
   "source": []
  },
  {
   "cell_type": "code",
   "execution_count": null,
   "metadata": {},
   "outputs": [],
   "source": []
  },
  {
   "cell_type": "code",
   "execution_count": null,
   "metadata": {},
   "outputs": [],
   "source": []
  },
  {
   "cell_type": "code",
   "execution_count": 27,
   "metadata": {},
   "outputs": [
    {
     "name": "stdout",
     "output_type": "stream",
     "text": [
      "[[ 0 -1]\n",
      " [ 0  0]]\n",
      "44100\n"
     ]
    }
   ],
   "source": [
    "def liremusique(file):\n",
    "    freq, data = scipy.io.wavfile.read(file)\n",
    "    return freq,data\n",
    "\n",
    "freq, data = liremusique('test.wav')\n",
    "print(data[3:5])\n",
    "print(freq)\n"
   ]
  },
  {
   "cell_type": "code",
   "execution_count": 28,
   "metadata": {},
   "outputs": [
    {
     "name": "stdout",
     "output_type": "stream",
     "text": [
      "1323000\n",
      "1323000\n",
      "1323000\n",
      "2646000\n"
     ]
    }
   ],
   "source": [
    "debutechantillon = freq * 30\n",
    "finechantillon = freq * 60\n",
    "\n",
    "tableau = data[debutechantillon:finechantillon]\n",
    "\n",
    "print(finechantillon - debutechantillon)\n",
    "print(len(tableau))\n",
    "\n",
    "c = asarray(tableau, dtype = np.int16)\n",
    "\n",
    "\n",
    "scipy.io.wavfile.write('unbout.wav', freq, c)\n",
    "\n",
    "\n",
    "print(debutechantillon)\n",
    "print(finechantillon)"
   ]
  },
  {
   "cell_type": "code",
   "execution_count": 56,
   "metadata": {},
   "outputs": [
    {
     "name": "stdout",
     "output_type": "stream",
     "text": [
      "132300\n"
     ]
    }
   ],
   "source": [
    "tab = []\n",
    "def fourierpartie(data, debut, fin, taillefenetre):\n",
    "    res = []\n",
    "    reste = len(data) % taillefenetre\n",
    "    newtaille = int((len(data) - reste) / taillefenetre)\n",
    "    for k in range(0, newtaille):\n",
    "        liste = data[taillefenetre * k:taillefenetre*(k+1)]\n",
    "        tmp = fft.fft2(liste)\n",
    "        res = res + [tmp]\n",
    "    return reste, res\n",
    "    \n",
    "    \n",
    "def fourierinverse(data, debut, fin, taillefenetre):\n",
    "    res = []\n",
    "    reste = len(data) % taillefenetre\n",
    "    newtaille = int((len(data) - reste) / taillefenetre)\n",
    "    for k in range(0, newtaille):\n",
    "        liste = data[taillefenetre * k:taillefenetre*(k+1)]\n",
    "        tmp = fft.ifft2(liste)\n",
    "        res = res + [tmp]\n",
    "    return reste, res\n",
    "\n",
    "reste, tab = fourierpartie(tableau, debutechantillon, finechantillon, 10)\n",
    "# print(tab)\n",
    "print(len(tab))\n",
    "tab2 = fourierinverse(tab, debutechantillon, finechantillon, 10)\n",
    "#print(tab2)\n",
    "#print(len(tab2))"
   ]
  },
  {
   "cell_type": "code",
   "execution_count": 62,
   "metadata": {},
   "outputs": [
    {
     "name": "stdout",
     "output_type": "stream",
     "text": [
      "132300\n",
      "<class 'list'>\n",
      "<class 'numpy.ndarray'>\n",
      "<class 'numpy.ndarray'>\n",
      "[array([[-7.54100000e+03+0.00000000e+00j,  8.50000000e+01+0.00000000e+00j],\n",
      "       [-2.90229490e+02-8.43455737e+01j, -2.55572809e+00+1.64782315e+01j],\n",
      "       [-1.36085639e+03-6.30471318e+02j, -2.63932023e-01-2.54337675e+01j],\n",
      "       [-3.23770510e+02+8.18381527e+02j, -2.04442719e+01-9.83812666e-01j],\n",
      "       [-1.51143612e+02+2.69892028e+01j, -4.73606798e+00+9.25329503e+00j],\n",
      "       [-1.07000000e+02+0.00000000e+00j, -9.00000000e+00+1.33226763e-15j],\n",
      "       [-1.51143612e+02-2.69892028e+01j, -4.73606798e+00-9.25329503e+00j],\n",
      "       [-3.23770510e+02-8.18381527e+02j, -2.04442719e+01+9.83812666e-01j],\n",
      "       [-1.36085639e+03+6.30471318e+02j, -2.63932023e-01+2.54337675e+01j],\n",
      "       [-2.90229490e+02+8.43455737e+01j, -2.55572809e+00-1.64782315e+01j]]), array([[-3.38900000e+03+0.00000000e+00j,  1.39000000e+02+0.00000000e+00j],\n",
      "       [ 7.30438427e+02-1.04061188e+03j, -4.17426458e+01+1.17961939e+01j],\n",
      "       [-1.56208588e+03+1.21035262e+03j, -7.05572809e+00-1.80170732e+01j],\n",
      "       [-6.13438427e+02+4.85414175e+02j,  7.42645786e-01-3.62056599e+01j],\n",
      "       [-3.85914122e+02-2.74143355e+01j, -2.49442719e+01-6.20541402e-01j],\n",
      "       [-4.09000000e+02-8.52651283e-14j,  4.70000000e+01+3.55271368e-15j],\n",
      "       [-3.85914122e+02+2.74143355e+01j, -2.49442719e+01+6.20541402e-01j],\n",
      "       [-6.13438427e+02-4.85414175e+02j,  7.42645786e-01+3.62056599e+01j],\n",
      "       [-1.56208588e+03-1.21035262e+03j, -7.05572809e+00+1.80170732e+01j],\n",
      "       [ 7.30438427e+02+1.04061188e+03j, -4.17426458e+01-1.17961939e+01j]]), array([[-4225.        +0.00000000e+00j,    -9.        +0.00000000e+00j],\n",
      "       [-1293.79947358-1.16816058e+03j,    13.24264579+1.49191453e+01j],\n",
      "       [  270.80997668+1.06831554e+02j,   -13.61145618-2.99192682e+00j],\n",
      "       [  776.79947358+1.08077443e+03j,   -29.24264579+2.62663112e+01j],\n",
      "       [    9.19002332+2.46088437e+02j,   -49.38854382-5.79209581e+00j],\n",
      "       [  -61.        -1.13686838e-13j,   -33.        +1.77635684e-15j],\n",
      "       [    9.19002332-2.46088437e+02j,   -49.38854382+5.79209581e+00j],\n",
      "       [  776.79947358-1.08077443e+03j,   -29.24264579-2.62663112e+01j],\n",
      "       [  270.80997668-1.06831554e+02j,   -13.61145618+2.99192682e+00j],\n",
      "       [-1293.79947358+1.16816058e+03j,    13.24264579-1.49191453e+01j]]), array([[-3585.        +0.00000000e+00j,   -23.        +0.00000000e+00j],\n",
      "       [ 2301.45756754+2.15640727e+03j,   -55.28773076+4.73938241e+01j],\n",
      "       [  548.66001334-1.95446415e+03j,    22.42705098-1.32415463e+01j],\n",
      "       [  422.04243246-8.38545738e+02j,    -7.21226924+2.25287256e+00j],\n",
      "       [  218.83998666-1.55148724e+02j,    19.07294902+2.99317800e+01j],\n",
      "       [  323.        +1.13686838e-13j,   -15.        +0.00000000e+00j],\n",
      "       [  218.83998666+1.55148724e+02j,    19.07294902-2.99317800e+01j],\n",
      "       [  422.04243246+8.38545738e+02j,    -7.21226924-2.25287256e+00j],\n",
      "       [  548.66001334+1.95446415e+03j,    22.42705098+1.32415463e+01j],\n",
      "       [ 2301.45756754-2.15640727e+03j,   -55.28773076-4.73938241e+01j]]), array([[-2405.        +0.00000000e+00j,   119.        +0.00000000e+00j],\n",
      "       [ -510.01662781+1.41712904e+03j,    -7.68033989-1.05598901e+01j],\n",
      "       [  428.79371545-8.04078144e+02j,    52.80495168+6.33700271e+01j],\n",
      "       [  -73.98337219-5.80110160e+02j,    14.68033989-4.47324124e+01j],\n",
      "       [  -78.79371545-4.08758830e+01j,    -9.80495168-6.83664172e+00j],\n",
      "       [   33.        +5.68434189e-14j,   -19.        +0.00000000e+00j],\n",
      "       [  -78.79371545+4.08758830e+01j,    -9.80495168+6.83664172e+00j],\n",
      "       [  -73.98337219+5.80110160e+02j,    14.68033989+4.47324124e+01j],\n",
      "       [  428.79371545+8.04078144e+02j,    52.80495168-6.33700271e+01j],\n",
      "       [ -510.01662781-1.41712904e+03j,    -7.68033989+1.05598901e+01j]])]\n"
     ]
    }
   ],
   "source": [
    "print(len(tab))\n",
    "print(type(tab))\n",
    "print(type(tab[0]))\n",
    "print(type(tab[1]))\n",
    "print(tab[0:5])"
   ]
  },
  {
   "cell_type": "code",
   "execution_count": 68,
   "metadata": {},
   "outputs": [
    {
     "name": "stdout",
     "output_type": "stream",
     "text": [
      "<class 'list'>\n",
      "[[(-7541+0j), (85+0j)], [(-3389+0j), (139+0j)], [(-4225+0j), (-9+0j)], [(-3585+0j), (-23+0j)], [(-2405+0j), (119+0j)]]\n",
      "<class 'numpy.ndarray'>\n",
      "[[-7541.+0.j    85.+0.j]\n",
      " [-3389.+0.j   139.+0.j]\n",
      " [-4225.+0.j    -9.+0.j]\n",
      " [-3585.+0.j   -23.+0.j]\n",
      " [-2405.+0.j   119.+0.j]]\n"
     ]
    }
   ],
   "source": [
    "#exe = asarray(tab)\n",
    "#print(type(exe))\n",
    "#print(exe[0:5])\n",
    "def autre(tab):\n",
    "    tab1 = tab[0:5]\n",
    "    tab2 = [[0]] * len(tab1)\n",
    "    for i in range(len(tab1)):\n",
    "        tab2[i] = tab1[i][0].tolist()\n",
    "    return tab2 \n",
    "\n",
    "exe = autre(tab)\n",
    "print(type(exe))\n",
    "print(exe[0:5])\n",
    "exe2 = asarray(exe)\n",
    "print(type(exe2))\n",
    "print(exe2[0:5])"
   ]
  },
  {
   "cell_type": "code",
   "execution_count": 45,
   "metadata": {},
   "outputs": [
    {
     "name": "stdout",
     "output_type": "stream",
     "text": [
      "<class 'list'>\n",
      "13230\n"
     ]
    }
   ],
   "source": [
    "print(type(tab))\n",
    "print(len(tab2[1]))\n",
    "#print(tab2[1])\n",
    "# inter = restructuration(tab)\n",
    "donnees = asarray(tab)\n",
    "\n",
    "donnees.dump('imag30sec.txt')"
   ]
  },
  {
   "cell_type": "code",
   "execution_count": 38,
   "metadata": {},
   "outputs": [
    {
     "name": "stdout",
     "output_type": "stream",
     "text": [
      "132300\n"
     ]
    }
   ],
   "source": [
    "print(len(tab))"
   ]
  },
  {
   "cell_type": "code",
   "execution_count": 39,
   "metadata": {},
   "outputs": [],
   "source": [
    "# tab = [1,2,3,4,5,6,7,8,9]\n",
    "\n",
    "# def fourierpartie(data, debut, fin, taillefenetre):\n",
    "#    res = []\n",
    "#    reste = len(data) % taillefenetre\n",
    "#    print(len(data))\n",
    "#    print(reste)\n",
    "#    newtaille = int((len(data) - reste) / taillefenetre)\n",
    "#    print(newtaille)\n",
    "    #for k in range(0, newtaille):\n",
    "       # liste = data[taillefenetre * k:taillefenetre*(k+1)]\n",
    "        #print(len(liste))\n",
    "    #return reste, tab\n",
    "    \n",
    "#rest, tab = fourierpartie(tableau, debutechantillon, finechantillon, 10)\n",
    "# fourierpartie(tab, 0, len(tab), 4)\n",
    "#print(tab)\n",
    "#print(len(tab))"
   ]
  },
  {
   "cell_type": "code",
   "execution_count": 34,
   "metadata": {},
   "outputs": [
    {
     "ename": "NameError",
     "evalue": "name 'tab2' is not defined",
     "output_type": "error",
     "traceback": [
      "\u001b[0;31m---------------------------------------------------------------------------\u001b[0m",
      "\u001b[0;31mNameError\u001b[0m                                 Traceback (most recent call last)",
      "\u001b[0;32m<ipython-input-34-46e5fe93d932>\u001b[0m in \u001b[0;36m<module>\u001b[0;34m\u001b[0m\n\u001b[0;32m----> 1\u001b[0;31m \u001b[0mc\u001b[0m \u001b[0;34m=\u001b[0m \u001b[0masarray\u001b[0m\u001b[0;34m(\u001b[0m\u001b[0mtab2\u001b[0m\u001b[0;34m,\u001b[0m \u001b[0mdtype\u001b[0m \u001b[0;34m=\u001b[0m \u001b[0mnp\u001b[0m\u001b[0;34m.\u001b[0m\u001b[0mint16\u001b[0m\u001b[0;34m)\u001b[0m\u001b[0;34m\u001b[0m\u001b[0;34m\u001b[0m\u001b[0m\n\u001b[0m\u001b[1;32m      2\u001b[0m \u001b[0;34m\u001b[0m\u001b[0m\n\u001b[1;32m      3\u001b[0m \u001b[0;34m\u001b[0m\u001b[0m\n\u001b[1;32m      4\u001b[0m \u001b[0mscipy\u001b[0m\u001b[0;34m.\u001b[0m\u001b[0mio\u001b[0m\u001b[0;34m.\u001b[0m\u001b[0mwavfile\u001b[0m\u001b[0;34m.\u001b[0m\u001b[0mwrite\u001b[0m\u001b[0;34m(\u001b[0m\u001b[0;34m'unboutreecrit.wav'\u001b[0m\u001b[0;34m,\u001b[0m \u001b[0mfreq\u001b[0m\u001b[0;34m,\u001b[0m \u001b[0mc\u001b[0m\u001b[0;34m)\u001b[0m\u001b[0;34m\u001b[0m\u001b[0;34m\u001b[0m\u001b[0m\n",
      "\u001b[0;31mNameError\u001b[0m: name 'tab2' is not defined"
     ]
    }
   ],
   "source": [
    "c = asarray(tab2, dtype = np.int16)\n",
    "\n",
    "\n",
    "scipy.io.wavfile.write('unboutreecrit.wav', freq, c)"
   ]
  },
  {
   "cell_type": "code",
   "execution_count": 54,
   "metadata": {},
   "outputs": [
    {
     "name": "stdout",
     "output_type": "stream",
     "text": [
      "0\n",
      "2\n",
      "4\n",
      "[array([ 32.+0.j, -14.+0.j]), array([68.+0.j, 22.+0.j]), array([469.+0.j,  -1.+0.j])]\n",
      "[9.+0.j]\n"
     ]
    }
   ],
   "source": [
    "tab = [9, 23, 45, 23, 234, 235]\n",
    "restab = []\n",
    "for i in range(0, len(tab), 2):\n",
    "    print(i)\n",
    "    restab += [fft.fft(tab[i:i+2])]\n",
    "print(restab)\n",
    "\n",
    "print(fft.fft([tab[0]]))"
   ]
  },
  {
   "cell_type": "code",
   "execution_count": null,
   "metadata": {},
   "outputs": [],
   "source": []
  }
 ],
 "metadata": {
  "kernelspec": {
   "display_name": "Python 3",
   "language": "python",
   "name": "python3"
  },
  "language_info": {
   "codemirror_mode": {
    "name": "ipython",
    "version": 3
   },
   "file_extension": ".py",
   "mimetype": "text/x-python",
   "name": "python",
   "nbconvert_exporter": "python",
   "pygments_lexer": "ipython3",
   "version": "3.6.7"
  }
 },
 "nbformat": 4,
 "nbformat_minor": 2
}
