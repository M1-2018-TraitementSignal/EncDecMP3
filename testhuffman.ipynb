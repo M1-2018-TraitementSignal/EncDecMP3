{
 "cells": [
  {
   "cell_type": "code",
   "execution_count": 1,
   "metadata": {},
   "outputs": [
    {
     "name": "stdout",
     "output_type": "stream",
     "text": [
      "Populating the interactive namespace from numpy and matplotlib\n"
     ]
    }
   ],
   "source": [
    "%pylab inline\n",
    "import scipy\n",
    "import scipy.io.wavfile"
   ]
  },
  {
   "cell_type": "code",
   "execution_count": 2,
   "metadata": {},
   "outputs": [],
   "source": [
    "scipy.io.wavfile.read('test.wav')\n",
    "freq, data = scipy.io.wavfile.read('test.wav')"
   ]
  },
  {
   "cell_type": "code",
   "execution_count": 3,
   "metadata": {},
   "outputs": [
    {
     "name": "stdout",
     "output_type": "stream",
     "text": [
      "[[   0    0]\n",
      " [  -4   -3]\n",
      " [-433 -413]\n",
      " [-451 -439]\n",
      " [-552 -532]]\n",
      "[0 0]\n",
      "0\n"
     ]
    }
   ],
   "source": [
    "test2 = load('donneespropres.txt')\n",
    "\n",
    "c = asarray(test2, dtype = np.int16)\n",
    "test = c[0:5]\n",
    "print(test)\n",
    "print(c[0])\n",
    "print(c[0][0])"
   ]
  },
  {
   "cell_type": "code",
   "execution_count": 4,
   "metadata": {},
   "outputs": [
    {
     "name": "stdout",
     "output_type": "stream",
     "text": [
      "{0: 2, -4: 1, -3: 1, -433: 1, -413: 1, -451: 1, -439: 1, -552: 1, -532: 1}\n"
     ]
    }
   ],
   "source": [
    "def dicofrequences(donnees):\n",
    "    dico = {}\n",
    "    for i in donnees:\n",
    "        for j in range(0,2):\n",
    "            if i[j] in dico:\n",
    "                dico[i[j]] += 1\n",
    "            else:\n",
    "                dico[i[j]] = 1\n",
    "    return dico\n",
    "print(dicofrequences(test))"
   ]
  },
  {
   "cell_type": "code",
   "execution_count": 5,
   "metadata": {},
   "outputs": [
    {
     "name": "stdout",
     "output_type": "stream",
     "text": [
      "[[-539599.             +0.j           15035.             +0.j        ]\n",
      " [-465327.83083647-121592.68277688j   11659.26765513   -208.96595039j]\n",
      " [-350640.71331142-181161.84438752j   14770.7566454  -10161.98504661j]\n",
      " ...\n",
      " [-226419.41814969 -61568.17790253j   17057.43478383  -5810.63842478j]\n",
      " [-350640.71331142+181161.84438752j   14770.7566454  +10161.98504661j]\n",
      " [-465327.83083647+121592.68277689j   11659.26765513   +208.96595039j]]\n"
     ]
    },
    {
     "name": "stderr",
     "output_type": "stream",
     "text": [
      "IOPub data rate exceeded.\n",
      "The notebook server will temporarily stop sending output\n",
      "to the client in order to avoid crashing it.\n",
      "To change this limit, set the config variable\n",
      "`--NotebookApp.iopub_data_rate_limit`.\n",
      "\n",
      "Current values:\n",
      "NotebookApp.iopub_data_rate_limit=1000000.0 (bytes/sec)\n",
      "NotebookApp.rate_limit_window=3.0 (secs)\n",
      "\n"
     ]
    }
   ],
   "source": [
    "def remplissagedico(donnees):\n",
    "    dico = {}\n",
    "    tmp = fft.fft2(donnees)\n",
    "    print(tmp)\n",
    "    return dicofrequences(tmp)\n",
    "    # or i in range(0, len(donnees)):\n",
    "        \n",
    "print(remplissagedico(c))"
   ]
  },
  {
   "cell_type": "code",
   "execution_count": 28,
   "metadata": {},
   "outputs": [
    {
     "name": "stdout",
     "output_type": "stream",
     "text": [
      "[('10', 22), ('4', 17), ('20', 15), ('5', 4), ('12', 3)]\n",
      "{'10': '0', '4': '10', '20': '110', '5': '1110', '12': '1111'}\n"
     ]
    }
   ],
   "source": [
    "def huffmancode(dicofreq):\n",
    "    listetriee = sorted(dicofreq.items(), key=lambda t : t[1], reverse=True)\n",
    "    print(listetriee)\n",
    "    dicoHuff = {}\n",
    "    for i in range(len(listetriee)):\n",
    "        if i == 0:\n",
    "            codage = '0'\n",
    "            dicoHuff[listetriee[i][0]] = codage\n",
    "        if i == 1:\n",
    "            codage = '1'\n",
    "            dicoHuff[listetriee[i][0]] = codage\n",
    "        if i == (len(listetriee) - 1):\n",
    "            dicoHuff[listetriee[i][0]] = codage\n",
    "        elif i > 0 and i < len(listetriee) - 1:\n",
    "            dicoHuff[listetriee[i][0]] = codage + '0'\n",
    "        codage += '1'\n",
    "    return dicoHuff\n",
    "        \n",
    "    \n",
    "dico = {'10':22, '12':3, '20':15, '5':4, '4':17}\n",
    "dicoCode = huffmancode(dico)\n",
    "print(dicoCode)"
   ]
  },
  {
   "cell_type": "code",
   "execution_count": null,
   "metadata": {},
   "outputs": [],
   "source": []
  }
 ],
 "metadata": {
  "kernelspec": {
   "display_name": "Python 3",
   "language": "python",
   "name": "python3"
  },
  "language_info": {
   "codemirror_mode": {
    "name": "ipython",
    "version": 3
   },
   "file_extension": ".py",
   "mimetype": "text/x-python",
   "name": "python",
   "nbconvert_exporter": "python",
   "pygments_lexer": "ipython3",
   "version": "3.6.7"
  }
 },
 "nbformat": 4,
 "nbformat_minor": 2
}
