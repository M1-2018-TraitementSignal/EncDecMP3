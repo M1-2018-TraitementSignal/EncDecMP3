{
 "cells": [
  {
   "cell_type": "code",
   "execution_count": 1,
   "metadata": {},
   "outputs": [
    {
     "name": "stdout",
     "output_type": "stream",
     "text": [
      "Populating the interactive namespace from numpy and matplotlib\n"
     ]
    }
   ],
   "source": [
    "%pylab inline"
   ]
  },
  {
   "cell_type": "code",
   "execution_count": 2,
   "metadata": {},
   "outputs": [
    {
     "name": "stdout",
     "output_type": "stream",
     "text": [
      "100000\n",
      "[[-2.00000000e+00+0.00000000e+00j  0.00000000e+00+0.00000000e+00j]\n",
      " [-5.00000000e-01+1.53884177e+00j -1.11803399e+00-3.63271264e-01j]\n",
      " [ 5.00000000e-01+3.63271264e-01j -1.11803399e+00+1.53884177e+00j]\n",
      " [-5.00000000e-01+3.63271264e-01j  1.11803399e+00+1.53884177e+00j]\n",
      " [ 5.00000000e-01+1.53884177e+00j  1.11803399e+00-3.63271264e-01j]\n",
      " [ 2.00000000e+00+5.55111512e-17j  1.11022302e-16-1.11022302e-16j]\n",
      " [ 5.00000000e-01-1.53884177e+00j  1.11803399e+00+3.63271264e-01j]\n",
      " [-5.00000000e-01-3.63271264e-01j  1.11803399e+00-1.53884177e+00j]\n",
      " [ 5.00000000e-01-3.63271264e-01j -1.11803399e+00-1.53884177e+00j]\n",
      " [-5.00000000e-01-1.53884177e+00j -1.11803399e+00+3.63271264e-01j]]\n"
     ]
    }
   ],
   "source": [
    "donnees = load('imaginaireTest.txt')\n",
    "print(len(donnees))\n",
    "print(donnees[0:10])"
   ]
  },
  {
   "cell_type": "code",
   "execution_count": 3,
   "metadata": {},
   "outputs": [],
   "source": [
    "test = donnees[0:50]"
   ]
  },
  {
   "cell_type": "code",
   "execution_count": 4,
   "metadata": {},
   "outputs": [
    {
     "name": "stdout",
     "output_type": "stream",
     "text": [
      "a = [[4.41413406e-05 0.00000000e+00]\n",
      " [3.57110947e-05 2.59456290e-05]\n",
      " [1.36404244e-05 4.19809096e-05]\n",
      " ...\n",
      " [2.89934563e-03 1.73893429e-03]\n",
      " [2.74897061e-03 1.16250120e-03]\n",
      " [5.38790474e-03 1.30277440e-03]]\n"
     ]
    },
    {
     "data": {
      "image/png": "[encoded data removed]",
      "text/plain": [
       "<Figure size 864x576 with 1 Axes>"
      ]
     },
     "metadata": {},
     "output_type": "display_data"
    }
   ],
   "source": [
    "def affichefreq(data):\n",
    "    figure(figsize(12,8))\n",
    "    # print(data[0])\n",
    "    # print(amax(data))\n",
    "    # print(argmin(amax(data)))\n",
    "    absdata = abs(data)\n",
    "    ratio = absdata / amax(absdata)\n",
    "    print('a =', ratio)\n",
    "    taille = absdata.size\n",
    "    \n",
    "    plt.xlabel('Frequences (kHz)')\n",
    "    plt.ylabel('amplitude')\n",
    "    plt.show()\n",
    "    \n",
    "affichefreq(donnees)"
   ]
  },
  {
   "cell_type": "code",
   "execution_count": 5,
   "metadata": {},
   "outputs": [
    {
     "name": "stdout",
     "output_type": "stream",
     "text": [
      "[[2.         0.        ]\n",
      " [1.61803399 1.1755705 ]\n",
      " [0.61803399 1.90211303]]\n",
      "[0. 0. 0. 0. 0. 0.]\n"
     ]
    },
    {
     "data": {
      "image/png": "[encoded data removed]",
      "text/plain": [
       "<Figure size 864x288 with 1 Axes>"
      ]
     },
     "metadata": {},
     "output_type": "display_data"
    }
   ],
   "source": [
    "figure(figsize=(12,4))\n",
    "axis([0,50000,0,1])\n",
    "\n",
    "rate = 3\n",
    "debut = 0\n",
    "duree = 1\n",
    "\n",
    "start = int(debut*rate)\n",
    "stop = int((debut+duree)*rate)\n",
    "spectre = absolute((test[start:stop]))\n",
    "print(spectre)\n",
    "spectre = spectre/spectre.max()#fait un ratio\n",
    "n = spectre.size\n",
    "freq = zeros(n)\n",
    "print(freq)\n",
    "\n",
    "for k in range(n):\n",
    "    freq[k] = 1.0/n*rate*k\n",
    "vlines(freq,[0],spectre,'r')\n",
    "xlabel('f (Hz)')\n",
    "ylabel('A')\n",
    "axis([0,0.5*rate,0,1])\n",
    "grid()"
   ]
  },
  {
   "cell_type": "code",
   "execution_count": 6,
   "metadata": {},
   "outputs": [
    {
     "name": "stdout",
     "output_type": "stream",
     "text": [
      "[[  -2.         +0.j            0.         +0.j        ]\n",
      " [  -0.5        +1.53884177j   -1.11803399 -0.36327126j]\n",
      " [   0.5        +0.36327126j   -1.11803399 +1.53884177j]\n",
      " ...\n",
      " [ -92.28270576-93.49356488j   36.19756081+69.98215479j]\n",
      " [ 119.21071643-36.08714706j   36.70413862-37.77725784j]\n",
      " [-243.21729424-20.98102298j   -0.69756081+59.02328363j]]\n",
      "100000\n"
     ]
    }
   ],
   "source": [
    "print(donnees)\n",
    "print(len(donnees))"
   ]
  },
  {
   "cell_type": "code",
   "execution_count": 7,
   "metadata": {},
   "outputs": [],
   "source": [
    "import scipy.io.wavfile\n",
    "freq, datainit = scipy.io.wavfile.read('test.wav')\n",
    "data = datainit[0:50]"
   ]
  },
  {
   "cell_type": "code",
   "execution_count": 120,
   "metadata": {},
   "outputs": [
    {
     "name": "stdout",
     "output_type": "stream",
     "text": [
      "[ 0.0e+00  5.0e-05  1.0e-04 ... -1.5e-04 -1.0e-04 -5.0e-05]\n",
      "1\n"
     ]
    },
    {
     "ename": "ValueError",
     "evalue": "x and y must have same first dimension, but have shapes (1,) and (100000, 2)",
     "output_type": "error",
     "traceback": [
      "\u001b[0;31m---------------------------------------------------------------------------\u001b[0m",
      "\u001b[0;31mValueError\u001b[0m                                Traceback (most recent call last)",
      "\u001b[0;32m<ipython-input-120-5d74f700864d>\u001b[0m in \u001b[0;36m<module>\u001b[0;34m()\u001b[0m\n\u001b[1;32m     39\u001b[0m \u001b[0;34m\u001b[0m\u001b[0m\n\u001b[1;32m     40\u001b[0m \u001b[0mfigure\u001b[0m\u001b[0;34m(\u001b[0m\u001b[0mfigsize\u001b[0m\u001b[0;34m=\u001b[0m\u001b[0;34m(\u001b[0m\u001b[0;36m10\u001b[0m\u001b[0;34m,\u001b[0m\u001b[0;36m4\u001b[0m\u001b[0;34m)\u001b[0m\u001b[0;34m)\u001b[0m\u001b[0;34m\u001b[0m\u001b[0;34m\u001b[0m\u001b[0m\n\u001b[0;32m---> 41\u001b[0;31m \u001b[0mplot\u001b[0m\u001b[0;34m(\u001b[0m\u001b[0mfreq2\u001b[0m\u001b[0;34m,\u001b[0m\u001b[0mspectre\u001b[0m\u001b[0;34m,\u001b[0m\u001b[0;34m'r'\u001b[0m\u001b[0;34m)\u001b[0m\u001b[0;34m\u001b[0m\u001b[0;34m\u001b[0m\u001b[0m\n\u001b[0m\u001b[1;32m     42\u001b[0m \u001b[0mxlabel\u001b[0m\u001b[0;34m(\u001b[0m\u001b[0;34m'Frequence'\u001b[0m\u001b[0;34m)\u001b[0m\u001b[0;34m\u001b[0m\u001b[0;34m\u001b[0m\u001b[0m\n\u001b[1;32m     43\u001b[0m \u001b[0mylabel\u001b[0m\u001b[0;34m(\u001b[0m\u001b[0;34m'Amplitude'\u001b[0m\u001b[0;34m)\u001b[0m\u001b[0;34m\u001b[0m\u001b[0;34m\u001b[0m\u001b[0m\n",
      "\u001b[0;32m/usr/local/lib/python3.6/dist-packages/matplotlib/pyplot.py\u001b[0m in \u001b[0;36mplot\u001b[0;34m(scalex, scaley, data, *args, **kwargs)\u001b[0m\n\u001b[1;32m   2811\u001b[0m     return gca().plot(\n\u001b[1;32m   2812\u001b[0m         *args, scalex=scalex, scaley=scaley, **({\"data\": data} if data\n\u001b[0;32m-> 2813\u001b[0;31m         is not None else {}), **kwargs)\n\u001b[0m\u001b[1;32m   2814\u001b[0m \u001b[0;34m\u001b[0m\u001b[0m\n\u001b[1;32m   2815\u001b[0m \u001b[0;34m\u001b[0m\u001b[0m\n",
      "\u001b[0;32m/usr/local/lib/python3.6/dist-packages/matplotlib/__init__.py\u001b[0m in \u001b[0;36minner\u001b[0;34m(ax, data, *args, **kwargs)\u001b[0m\n\u001b[1;32m   1808\u001b[0m                         \u001b[0;34m\"the Matplotlib list!)\"\u001b[0m \u001b[0;34m%\u001b[0m \u001b[0;34m(\u001b[0m\u001b[0mlabel_namer\u001b[0m\u001b[0;34m,\u001b[0m \u001b[0mfunc\u001b[0m\u001b[0;34m.\u001b[0m\u001b[0m__name__\u001b[0m\u001b[0;34m)\u001b[0m\u001b[0;34m,\u001b[0m\u001b[0;34m\u001b[0m\u001b[0;34m\u001b[0m\u001b[0m\n\u001b[1;32m   1809\u001b[0m                         RuntimeWarning, stacklevel=2)\n\u001b[0;32m-> 1810\u001b[0;31m             \u001b[0;32mreturn\u001b[0m \u001b[0mfunc\u001b[0m\u001b[0;34m(\u001b[0m\u001b[0max\u001b[0m\u001b[0;34m,\u001b[0m \u001b[0;34m*\u001b[0m\u001b[0margs\u001b[0m\u001b[0;34m,\u001b[0m \u001b[0;34m**\u001b[0m\u001b[0mkwargs\u001b[0m\u001b[0;34m)\u001b[0m\u001b[0;34m\u001b[0m\u001b[0;34m\u001b[0m\u001b[0m\n\u001b[0m\u001b[1;32m   1811\u001b[0m \u001b[0;34m\u001b[0m\u001b[0m\n\u001b[1;32m   1812\u001b[0m         inner.__doc__ = _add_data_doc(inner.__doc__,\n",
      "\u001b[0;32m/usr/local/lib/python3.6/dist-packages/matplotlib/axes/_axes.py\u001b[0m in \u001b[0;36mplot\u001b[0;34m(self, scalex, scaley, *args, **kwargs)\u001b[0m\n\u001b[1;32m   1609\u001b[0m         \u001b[0mkwargs\u001b[0m \u001b[0;34m=\u001b[0m \u001b[0mcbook\u001b[0m\u001b[0;34m.\u001b[0m\u001b[0mnormalize_kwargs\u001b[0m\u001b[0;34m(\u001b[0m\u001b[0mkwargs\u001b[0m\u001b[0;34m,\u001b[0m \u001b[0mmlines\u001b[0m\u001b[0;34m.\u001b[0m\u001b[0mLine2D\u001b[0m\u001b[0;34m.\u001b[0m\u001b[0m_alias_map\u001b[0m\u001b[0;34m)\u001b[0m\u001b[0;34m\u001b[0m\u001b[0;34m\u001b[0m\u001b[0m\n\u001b[1;32m   1610\u001b[0m \u001b[0;34m\u001b[0m\u001b[0m\n\u001b[0;32m-> 1611\u001b[0;31m         \u001b[0;32mfor\u001b[0m \u001b[0mline\u001b[0m \u001b[0;32min\u001b[0m \u001b[0mself\u001b[0m\u001b[0;34m.\u001b[0m\u001b[0m_get_lines\u001b[0m\u001b[0;34m(\u001b[0m\u001b[0;34m*\u001b[0m\u001b[0margs\u001b[0m\u001b[0;34m,\u001b[0m \u001b[0;34m**\u001b[0m\u001b[0mkwargs\u001b[0m\u001b[0;34m)\u001b[0m\u001b[0;34m:\u001b[0m\u001b[0;34m\u001b[0m\u001b[0;34m\u001b[0m\u001b[0m\n\u001b[0m\u001b[1;32m   1612\u001b[0m             \u001b[0mself\u001b[0m\u001b[0;34m.\u001b[0m\u001b[0madd_line\u001b[0m\u001b[0;34m(\u001b[0m\u001b[0mline\u001b[0m\u001b[0;34m)\u001b[0m\u001b[0;34m\u001b[0m\u001b[0;34m\u001b[0m\u001b[0m\n\u001b[1;32m   1613\u001b[0m             \u001b[0mlines\u001b[0m\u001b[0;34m.\u001b[0m\u001b[0mappend\u001b[0m\u001b[0;34m(\u001b[0m\u001b[0mline\u001b[0m\u001b[0;34m)\u001b[0m\u001b[0;34m\u001b[0m\u001b[0;34m\u001b[0m\u001b[0m\n",
      "\u001b[0;32m/usr/local/lib/python3.6/dist-packages/matplotlib/axes/_base.py\u001b[0m in \u001b[0;36m_grab_next_args\u001b[0;34m(self, *args, **kwargs)\u001b[0m\n\u001b[1;32m    391\u001b[0m                 \u001b[0mthis\u001b[0m \u001b[0;34m+=\u001b[0m \u001b[0margs\u001b[0m\u001b[0;34m[\u001b[0m\u001b[0;36m0\u001b[0m\u001b[0;34m]\u001b[0m\u001b[0;34m,\u001b[0m\u001b[0;34m\u001b[0m\u001b[0;34m\u001b[0m\u001b[0m\n\u001b[1;32m    392\u001b[0m                 \u001b[0margs\u001b[0m \u001b[0;34m=\u001b[0m \u001b[0margs\u001b[0m\u001b[0;34m[\u001b[0m\u001b[0;36m1\u001b[0m\u001b[0;34m:\u001b[0m\u001b[0;34m]\u001b[0m\u001b[0;34m\u001b[0m\u001b[0;34m\u001b[0m\u001b[0m\n\u001b[0;32m--> 393\u001b[0;31m             \u001b[0;32myield\u001b[0m \u001b[0;32mfrom\u001b[0m \u001b[0mself\u001b[0m\u001b[0;34m.\u001b[0m\u001b[0m_plot_args\u001b[0m\u001b[0;34m(\u001b[0m\u001b[0mthis\u001b[0m\u001b[0;34m,\u001b[0m \u001b[0mkwargs\u001b[0m\u001b[0;34m)\u001b[0m\u001b[0;34m\u001b[0m\u001b[0;34m\u001b[0m\u001b[0m\n\u001b[0m\u001b[1;32m    394\u001b[0m \u001b[0;34m\u001b[0m\u001b[0m\n\u001b[1;32m    395\u001b[0m \u001b[0;34m\u001b[0m\u001b[0m\n",
      "\u001b[0;32m/usr/local/lib/python3.6/dist-packages/matplotlib/axes/_base.py\u001b[0m in \u001b[0;36m_plot_args\u001b[0;34m(self, tup, kwargs)\u001b[0m\n\u001b[1;32m    368\u001b[0m             \u001b[0mx\u001b[0m\u001b[0;34m,\u001b[0m \u001b[0my\u001b[0m \u001b[0;34m=\u001b[0m \u001b[0mindex_of\u001b[0m\u001b[0;34m(\u001b[0m\u001b[0mtup\u001b[0m\u001b[0;34m[\u001b[0m\u001b[0;34m-\u001b[0m\u001b[0;36m1\u001b[0m\u001b[0;34m]\u001b[0m\u001b[0;34m)\u001b[0m\u001b[0;34m\u001b[0m\u001b[0;34m\u001b[0m\u001b[0m\n\u001b[1;32m    369\u001b[0m \u001b[0;34m\u001b[0m\u001b[0m\n\u001b[0;32m--> 370\u001b[0;31m         \u001b[0mx\u001b[0m\u001b[0;34m,\u001b[0m \u001b[0my\u001b[0m \u001b[0;34m=\u001b[0m \u001b[0mself\u001b[0m\u001b[0;34m.\u001b[0m\u001b[0m_xy_from_xy\u001b[0m\u001b[0;34m(\u001b[0m\u001b[0mx\u001b[0m\u001b[0;34m,\u001b[0m \u001b[0my\u001b[0m\u001b[0;34m)\u001b[0m\u001b[0;34m\u001b[0m\u001b[0;34m\u001b[0m\u001b[0m\n\u001b[0m\u001b[1;32m    371\u001b[0m \u001b[0;34m\u001b[0m\u001b[0m\n\u001b[1;32m    372\u001b[0m         \u001b[0;32mif\u001b[0m \u001b[0mself\u001b[0m\u001b[0;34m.\u001b[0m\u001b[0mcommand\u001b[0m \u001b[0;34m==\u001b[0m \u001b[0;34m'plot'\u001b[0m\u001b[0;34m:\u001b[0m\u001b[0;34m\u001b[0m\u001b[0;34m\u001b[0m\u001b[0m\n",
      "\u001b[0;32m/usr/local/lib/python3.6/dist-packages/matplotlib/axes/_base.py\u001b[0m in \u001b[0;36m_xy_from_xy\u001b[0;34m(self, x, y)\u001b[0m\n\u001b[1;32m    229\u001b[0m         \u001b[0;32mif\u001b[0m \u001b[0mx\u001b[0m\u001b[0;34m.\u001b[0m\u001b[0mshape\u001b[0m\u001b[0;34m[\u001b[0m\u001b[0;36m0\u001b[0m\u001b[0;34m]\u001b[0m \u001b[0;34m!=\u001b[0m \u001b[0my\u001b[0m\u001b[0;34m.\u001b[0m\u001b[0mshape\u001b[0m\u001b[0;34m[\u001b[0m\u001b[0;36m0\u001b[0m\u001b[0;34m]\u001b[0m\u001b[0;34m:\u001b[0m\u001b[0;34m\u001b[0m\u001b[0;34m\u001b[0m\u001b[0m\n\u001b[1;32m    230\u001b[0m             raise ValueError(\"x and y must have same first dimension, but \"\n\u001b[0;32m--> 231\u001b[0;31m                              \"have shapes {} and {}\".format(x.shape, y.shape))\n\u001b[0m\u001b[1;32m    232\u001b[0m         \u001b[0;32mif\u001b[0m \u001b[0mx\u001b[0m\u001b[0;34m.\u001b[0m\u001b[0mndim\u001b[0m \u001b[0;34m>\u001b[0m \u001b[0;36m2\u001b[0m \u001b[0;32mor\u001b[0m \u001b[0my\u001b[0m\u001b[0;34m.\u001b[0m\u001b[0mndim\u001b[0m \u001b[0;34m>\u001b[0m \u001b[0;36m2\u001b[0m\u001b[0;34m:\u001b[0m\u001b[0;34m\u001b[0m\u001b[0;34m\u001b[0m\u001b[0m\n\u001b[1;32m    233\u001b[0m             raise ValueError(\"x and y can be no greater than 2-D, but have \"\n",
      "\u001b[0;31mValueError\u001b[0m: x and y must have same first dimension, but have shapes (1,) and (100000, 2)"
     ]
    },
    {
     "data": {
      "image/png": "[encoded data removed]",
      "text/plain": [
       "<Figure size 720x288 with 1 Axes>"
      ]
     },
     "metadata": {},
     "output_type": "display_data"
    }
   ],
   "source": [
    "#print(freq)\n",
    "#print(len(donnees))\n",
    "# T = len(data)\n",
    "#T = 10\n",
    "#fe = freq / 2\n",
    "# print(abs(donnees[1:50]))\n",
    "\n",
    "\n",
    "#N=len(donnees)\n",
    "#spectre = np.absolute(donnees)*2/N\n",
    "#absdata = abs(donnees)\n",
    "\n",
    "\n",
    "# espacement frequentiel de 2 point: inverse de la duree T\n",
    "#freq2 = np.arange(N) * 1/T\n",
    "\n",
    "\n",
    "print(freq)\n",
    "T = 2\n",
    "fe = 100000\n",
    "\n",
    "\n",
    "N=len(donnees)\n",
    "spectre = np.absolute(donnees)*2/N\n",
    "absdata = abs(donnees)\n",
    "\n",
    "\n",
    "freq2 = np.arange(N)*1.0/T\n",
    "\n",
    "#n = donnees.size\n",
    "#print(n)\n",
    "#freq2 = np.fft.fftfreq(n)\n",
    "#freq\n",
    "#np.fft.fftshift(freq)\n",
    "\n",
    "\n",
    "\n",
    "# On trace le spectre pour des fréquences allant de zéro à la moitié de la fréquence d'échantillonnage :\n",
    "\n",
    "figure(figsize=(10,4))\n",
    "plot(freq2,spectre,'r')\n",
    "xlabel('Frequence')\n",
    "ylabel('Amplitude')\n",
    "axis([0,fe/2,0,spectre.max()])\n",
    "grid()\n",
    "            "
   ]
  },
  {
   "cell_type": "code",
   "execution_count": 99,
   "metadata": {},
   "outputs": [
    {
     "data": {
      "text/plain": [
       "array([-5.     , -4.99995, -4.9999 , ...,  4.99985,  4.9999 ,  4.99995])"
      ]
     },
     "execution_count": 99,
     "metadata": {},
     "output_type": "execute_result"
    }
   ],
   "source": [
    "signal = donnees\n",
    ">>> fourier = np.fft.fft(signal)\n",
    ">>> n = signal.size\n",
    ">>> timestep = 0.1\n",
    ">>> freq = np.fft.fftfreq(n, d=timestep)\n",
    ">>> freq\n",
    "np.fft.fftshift(freq)"
   ]
  },
  {
   "cell_type": "code",
   "execution_count": 121,
   "metadata": {},
   "outputs": [
    {
     "name": "stdout",
     "output_type": "stream",
     "text": [
      "[[  -2.         +0.j            0.         +0.j        ]\n",
      " [  -0.5        +1.53884177j   -1.11803399 -0.36327126j]\n",
      " [   0.5        +0.36327126j   -1.11803399 +1.53884177j]\n",
      " ...\n",
      " [ -92.28270576-93.49356488j   36.19756081+69.98215479j]\n",
      " [ 119.21071643-36.08714706j   36.70413862-37.77725784j]\n",
      " [-243.21729424-20.98102298j   -0.69756081+59.02328363j]]\n"
     ]
    }
   ],
   "source": [
    "print(donnees)"
   ]
  },
  {
   "cell_type": "code",
   "execution_count": 123,
   "metadata": {},
   "outputs": [
    {
     "data": {
      "text/plain": [
       "array([[  2.        ,   0.        ],\n",
       "       [  1.61803399,   1.1755705 ],\n",
       "       [  0.61803399,   1.90211303],\n",
       "       ...,\n",
       "       [131.36645103,  78.78937364],\n",
       "       [124.55310954,  52.67176665],\n",
       "       [244.12057583,  59.02740551]])"
      ]
     },
     "execution_count": 123,
     "metadata": {},
     "output_type": "execute_result"
    }
   ],
   "source": [
    "d = abs(donnees)\n",
    "d"
   ]
  },
  {
   "cell_type": "code",
   "execution_count": 131,
   "metadata": {},
   "outputs": [
    {
     "name": "stdout",
     "output_type": "stream",
     "text": [
      "<class 'list'>\n"
     ]
    }
   ],
   "source": [
    "tabim = []\n",
    "for i in range(0, len(donnees)):\n",
    "    tabim = tabim + [donnees[i][0]]\n",
    "# print(tab)\n",
    "print(type(tabim))"
   ]
  },
  {
   "cell_type": "code",
   "execution_count": 135,
   "metadata": {},
   "outputs": [
    {
     "name": "stdout",
     "output_type": "stream",
     "text": [
      "<class 'numpy.ndarray'>\n",
      "[  -2.         +0.j           -0.5        +1.53884177j\n",
      "    0.5        +0.36327126j ...  -92.28270576-93.49356488j\n",
      "  119.21071643-36.08714706j -243.21729424-20.98102298j]\n",
      "<class 'numpy.ndarray'>\n",
      "<class 'numpy.ndarray'>\n",
      "[  2.           1.61803399   0.61803399 ... 131.36645103 124.55310954\n",
      " 244.12057583]\n",
      "[  2.           1.61803399   0.61803399 ... 131.36645103 124.55310954\n",
      " 244.12057583]\n"
     ]
    }
   ],
   "source": [
    "tabim = asarray(tabim)\n",
    "print(type(tabim))\n",
    "print(tabim)\n",
    "a = abs(tabim)\n",
    "print(type(tab))\n",
    "tab = asarray(tab)\n",
    "print(type(tab))\n",
    "print(tab)\n",
    "print(a)"
   ]
  },
  {
   "cell_type": "code",
   "execution_count": 147,
   "metadata": {},
   "outputs": [
    {
     "name": "stdout",
     "output_type": "stream",
     "text": [
      "[ 0.0e+00  5.0e-05  1.0e-04 ... -1.5e-04 -1.0e-04 -5.0e-05]\n"
     ]
    },
    {
     "data": {
      "image/png": "[encoded data removed]",
      "text/plain": [
       "<Figure size 720x288 with 1 Axes>"
      ]
     },
     "metadata": {},
     "output_type": "display_data"
    }
   ],
   "source": [
    "\n",
    "\n",
    "print(freq)\n",
    "T = 2\n",
    "fe = 100000\n",
    "\n",
    "\n",
    "N=len(tabim)\n",
    "spectre = np.absolute(tabim)*2/N\n",
    "absdata = abs(tabim)\n",
    "\n",
    "\n",
    "freq2 = np.arange(N)*1.0/T\n",
    "\n",
    "#n = donnees.size\n",
    "#print(n)\n",
    "#freq2 = np.fft.fftfreq(n)\n",
    "#freq\n",
    "#np.fft.fftshift(freq)\n",
    "\n",
    "\n",
    "\n",
    "# On trace le spectre pour des fréquences allant de zéro à la moitié de la fréquence d'échantillonnage :\n",
    "\n",
    "figure(figsize=(10,4))\n",
    "plot(freq2,spectre,'r')\n",
    "xlabel('Frequence')\n",
    "ylabel('Amplitude')\n",
    "axis([0,fe/2,0,spectre.max()])\n",
    "grid()"
   ]
  },
  {
   "cell_type": "code",
   "execution_count": null,
   "metadata": {},
   "outputs": [],
   "source": []
  }
 ],
 "metadata": {
  "kernelspec": {
   "display_name": "Python 3",
   "language": "python",
   "name": "python3"
  },
  "language_info": {
   "codemirror_mode": {
    "name": "ipython",
    "version": 3
   },
   "file_extension": ".py",
   "mimetype": "text/x-python",
   "name": "python",
   "nbconvert_exporter": "python",
   "pygments_lexer": "ipython3",
   "version": "3.6.7"
  }
 },
 "nbformat": 4,
 "nbformat_minor": 2
}
